{
 "cells": [
  {
   "cell_type": "markdown",
   "id": "a5e8e6ae-e5fa-49c0-84b8-27d75c9e6f3a",
   "metadata": {},
   "source": [
    "# Introduction"
   ]
  },
  {
   "cell_type": "markdown",
   "id": "245036fa-0bbc-44c6-9603-11c36b2670da",
   "metadata": {},
   "source": [
    "This notebook is a cute example of how a well-known, deep learning architecture can be modified and then used to solve a problem it is not usually associated with.\n",
    "\n",
    "The problem in question is predicting the sales of tickets for live events (\"shows\"), and comes from a real world example.  We had access to a detailed quantity of metadata for about 200 shows (with each show having several performances, so around 1500 performances in total).  We also had the final 20 weeks of ticket sales (during which the vast majority of sales occured).  The challenge was to forecast future sales - up to the point of the performance - using the first few weeks of sales.\n",
    "\n",
    "When building ML models, our goal is to develop the _simplest_ model which achieves the best (and most robust) fits to data.  During my exploration of different models I experimented with a number of linear, non-linear, state-space and smoothing-based approaches.  All were unable to produce robust predictions.\n",
    "\n",
    "The deep learning approach I settled upon took advantage of the fact that the sales periods were a fixed 20 weeks.  I started with a seq2seq architecture and added a few bells and whistles.  Even with single-layer LSTMs and no attention mechanism the results were a dramatic improvement on everything I had tried previously, and a substantial improvement on the \"human judgement\" forecasts produced prior to this."
   ]
  },
  {
   "cell_type": "code",
   "execution_count": 1,
   "id": "0a7d15ee-94d8-436b-9ec5-3af5ec6f2984",
   "metadata": {},
   "outputs": [],
   "source": [
    "import seaborn as sns\n",
    "import numpy as np\n",
    "import torch\n",
    "import pandas as pd\n",
    "from matplotlib import pyplot as plt\n",
    "from sklearn.model_selection import train_test_split\n",
    "from tqdm import tqdm\n",
    "from torch import optim\n",
    "from torch.utils.data import DataLoader\n",
    "import random\n",
    "import torch.nn as nn\n",
    "from torch import optim\n",
    "import torch.nn.functional as F"
   ]
  },
  {
   "cell_type": "code",
   "execution_count": 2,
   "id": "c0d3238d-74cf-4635-baf2-7e1ed90c5833",
   "metadata": {},
   "outputs": [],
   "source": [
    "RANDOM_SEED = 42\n",
    "\n",
    "sns.set(rc={'figure.figsize':(20,10)})"
   ]
  },
  {
   "cell_type": "markdown",
   "id": "188c140f-6567-4ed8-b8ca-9b093cb2bd7f",
   "metadata": {},
   "source": [
    "# 1. Load the data"
   ]
  },
  {
   "cell_type": "markdown",
   "id": "a441c9e6-eeac-48f9-bb00-65c407b78a2f",
   "metadata": {},
   "source": [
    "The data here have been obfuscated and heavily preprocessed (since preprocessing is not the point of this notebook). What is loaded in is ready to work with.  The source data is not being committed to this repo because I do not own it."
   ]
  },
  {
   "cell_type": "code",
   "execution_count": 3,
   "id": "409aa33b-6705-4b49-9244-16ce2541dde2",
   "metadata": {},
   "outputs": [
    {
     "data": {
      "text/plain": [
       "torch.Size([1533, 54])"
      ]
     },
     "execution_count": 3,
     "metadata": {},
     "output_type": "execute_result"
    }
   ],
   "source": [
    "static_data = torch.from_numpy(np.load('static_data_preprocessed.npy'))\n",
    "static_data.size()"
   ]
  },
  {
   "cell_type": "markdown",
   "id": "653e8c08-b742-41ed-bd37-dbaed9581457",
   "metadata": {},
   "source": [
    "The `static_data` tensor contains a mix of categorical, ordinal and numeric data that relate both to a show and to a specific performance.  The categorical data have been one-hot encoded.  The ordinal have been encoded as integers.  The numerics have been left untouched.\n",
    "\n",
    "Some examples of the kinds of data that have been included:\n",
    "- Information about the star power of the cast, whether there is local competition, whether there has been a marketing drive.\n",
    "- Season, day and time of the performance.\n",
    "- Capacity of the theatre and length of the \"early bird\" sales period.\n",
    "\n",
    "An example row from this tensor is shown below:"
   ]
  },
  {
   "cell_type": "code",
   "execution_count": 4,
   "id": "d779c53d-1e54-4d15-91d4-be28d772501a",
   "metadata": {},
   "outputs": [
    {
     "data": {
      "text/plain": [
       "tensor([  0.,   0.,   1.,   0.,   0.,   0.,   0.,   0.,   1.,   0.,   1.,   0.,\n",
       "          1.,   0.,   0.,   0.,   0.,   1.,   0.,   0.,   0.,   0.,   0.,   0.,\n",
       "          0.,   0.,   0.,   0.,   0.,   0.,   0.,   0.,   0.,   0.,   0.,   0.,\n",
       "          0.,   1.,   0.,   0.,   0.,   3.,   1.,   2.,   1.,   1.,   3.,   4.,\n",
       "          4.,   4.,   3.,   0., 471.,  45.], dtype=torch.float64)"
      ]
     },
     "execution_count": 4,
     "metadata": {},
     "output_type": "execute_result"
    }
   ],
   "source": [
    "static_data[0]"
   ]
  },
  {
   "cell_type": "code",
   "execution_count": 5,
   "id": "172284be-e4f8-4336-b168-86235b374d6f",
   "metadata": {},
   "outputs": [
    {
     "data": {
      "text/plain": [
       "torch.Size([1533, 20, 3])"
      ]
     },
     "execution_count": 5,
     "metadata": {},
     "output_type": "execute_result"
    }
   ],
   "source": [
    "dynamic_data = torch.from_numpy(np.load('dynamic_data_preprocessed.npy'))\n",
    "dynamic_data.size()"
   ]
  },
  {
   "cell_type": "markdown",
   "id": "c225310b-2d51-448e-9be0-73f277a5d86b",
   "metadata": {},
   "source": [
    "For each performance, we have weekly sales data for the final 20 weeks.  We have two variables: the ticket price (which has been standardised to aid obfusacation) and the cumulative percentage of venue capacity that has been sold to date.  We add another variable to these two: the fraction of weeks (using a denominator of 20) until the performance.  This was found to help the model adjust it's predictions as the sale period closed out."
   ]
  },
  {
   "cell_type": "code",
   "execution_count": 6,
   "id": "8038ff0c-75be-41f6-a686-52cda5fa011b",
   "metadata": {},
   "outputs": [
    {
     "data": {
      "text/plain": [
       "tensor([[ 1.0000,  1.0000, 33.6000,  0.3000],\n",
       "        [ 0.5000,  0.5000, 33.6000,  0.3046],\n",
       "        [ 0.3333,  0.3333, 33.6000,  0.3113],\n",
       "        [ 0.2500,  0.2500, 33.6000,  0.3251],\n",
       "        [ 0.2000,  0.2000, 35.0000,  0.3333],\n",
       "        [ 0.1667,  0.1667, 35.0000,  0.3441],\n",
       "        [ 0.1429,  0.1429, 35.0000,  0.3549],\n",
       "        [ 0.1250,  0.1250, 35.0000,  0.3659],\n",
       "        [ 0.1111,  0.1111, 35.0000,  0.3683],\n",
       "        [ 0.1000,  0.1000, 35.0000,  0.3741],\n",
       "        [ 0.0909,  0.0909, 35.0000,  0.4204],\n",
       "        [ 0.0833,  0.0833, 35.0000,  0.4308],\n",
       "        [ 0.0769,  0.0769, 35.0000,  0.4350],\n",
       "        [ 0.0714,  0.0714, 35.7429,  0.4745],\n",
       "        [ 0.0667,  0.0667, 36.3000,  0.4961],\n",
       "        [ 0.0625,  0.0625, 36.3000,  0.5520],\n",
       "        [ 0.0588,  0.0588, 36.3000,  0.5710],\n",
       "        [ 0.0556,  0.0556, 36.5143,  0.5830],\n",
       "        [ 0.0526,  0.0526, 36.8000,  0.5876],\n",
       "        [ 0.0500,  0.0500, 36.8000,  0.6365]], dtype=torch.float64)"
      ]
     },
     "execution_count": 6,
     "metadata": {},
     "output_type": "execute_result"
    }
   ],
   "source": [
    "# Adding the number of weeks until the performance to the dynamic data.\n",
    "n_weeks = dynamic_data.size(1)\n",
    "n_examples = dynamic_data.size(0)\n",
    "weeks_tensor = torch.tensor(1./np.arange(1, n_weeks+1)).view(1, -1, 1)\n",
    "weeks_tensor = weeks_tensor.repeat(n_examples, 1, 1)\n",
    "dynamic_data = torch.concat([weeks_tensor, dynamic_data], dim=2)\n",
    "dynamic_data[0]"
   ]
  },
  {
   "cell_type": "markdown",
   "id": "c0174621-070a-4bfa-9f00-e62830acbee6",
   "metadata": {},
   "source": [
    "Each show has between 1 and 10 performances in this dataset.  We expect some similarity in the patterns of sales to occur between different performances of the same show.  (Indeed, a more sophisticated model than this one would probably take advantage of this!)\n",
    "\n",
    "To ensure that no information travels between the training and validation datasets, we split our data using the `show_id`, not the `performance_id`.  The following map helps us to do this."
   ]
  },
  {
   "cell_type": "code",
   "execution_count": 7,
   "id": "bebd15b7-bb68-4207-9fc4-8bdc6143122e",
   "metadata": {},
   "outputs": [
    {
     "data": {
      "text/html": [
       "<div>\n",
       "<style scoped>\n",
       "    .dataframe tbody tr th:only-of-type {\n",
       "        vertical-align: middle;\n",
       "    }\n",
       "\n",
       "    .dataframe tbody tr th {\n",
       "        vertical-align: top;\n",
       "    }\n",
       "\n",
       "    .dataframe thead th {\n",
       "        text-align: right;\n",
       "    }\n",
       "</style>\n",
       "<table border=\"1\" class=\"dataframe\">\n",
       "  <thead>\n",
       "    <tr style=\"text-align: right;\">\n",
       "      <th></th>\n",
       "      <th>show_id</th>\n",
       "      <th>performance_id</th>\n",
       "    </tr>\n",
       "  </thead>\n",
       "  <tbody>\n",
       "    <tr>\n",
       "      <th>0</th>\n",
       "      <td>0</td>\n",
       "      <td>0</td>\n",
       "    </tr>\n",
       "    <tr>\n",
       "      <th>1</th>\n",
       "      <td>0</td>\n",
       "      <td>1</td>\n",
       "    </tr>\n",
       "    <tr>\n",
       "      <th>2</th>\n",
       "      <td>1</td>\n",
       "      <td>2</td>\n",
       "    </tr>\n",
       "  </tbody>\n",
       "</table>\n",
       "</div>"
      ],
      "text/plain": [
       "   show_id  performance_id\n",
       "0        0               0\n",
       "1        0               1\n",
       "2        1               2"
      ]
     },
     "execution_count": 7,
     "metadata": {},
     "output_type": "execute_result"
    }
   ],
   "source": [
    "show_map_df = pd.read_csv('show_map_preprocessed.csv')\n",
    "show_map_df.head(3)"
   ]
  },
  {
   "cell_type": "markdown",
   "id": "ff61c6d2-bc24-418b-826a-e2f92ae9ec4a",
   "metadata": {},
   "source": [
    "# 2. Split the data into training and validation sets"
   ]
  },
  {
   "cell_type": "markdown",
   "id": "cda7608c-e833-44e5-b8c3-0fd02daa90fe",
   "metadata": {},
   "source": [
    "As discussed above, we split the shows into training and validation sets, locate all performances for shows in each and build the required tensors.\n",
    "\n",
    "We load the tensors onto the GPU, if available."
   ]
  },
  {
   "cell_type": "code",
   "execution_count": 9,
   "id": "3a186522-6cae-489a-8c28-04fb185c2eb6",
   "metadata": {},
   "outputs": [
    {
     "name": "stdout",
     "output_type": "stream",
     "text": [
      "Using device type: cuda\n"
     ]
    }
   ],
   "source": [
    "device = torch.device(\"cuda\" if torch.cuda.is_available() else \"cpu\")\n",
    "print(f\"Using device type: {device.type}\")"
   ]
  },
  {
   "cell_type": "code",
   "execution_count": 8,
   "id": "4828a97e-0e72-4e99-ad37-9b968fa52731",
   "metadata": {},
   "outputs": [],
   "source": [
    "train_shows, test_shows = train_test_split(\n",
    "    show_map_df.show_id.unique(), \n",
    "    train_size=0.8, \n",
    "    shuffle=True, \n",
    "    random_state=RANDOM_SEED\n",
    ")"
   ]
  },
  {
   "cell_type": "code",
   "execution_count": 10,
   "id": "09c30c8c-58ee-450f-9fb5-b44a9eaa7a6d",
   "metadata": {},
   "outputs": [],
   "source": [
    "# Find the indexes of the performances belonging to each show.\n",
    "train_indexes = torch.tensor(np.where(show_map_df.show_id.isin(train_shows))[0])\n",
    "test_indexes = torch.tensor(np.where(show_map_df.show_id.isin(test_shows))[0])\n",
    "\n",
    "# Arrays of performance_ids\n",
    "train_keys = show_map_df[show_map_df.show_id.isin(train_shows)].performance_id.values\n",
    "test_keys = show_map_df[show_map_df.show_id.isin(test_shows)].performance_id.values\n",
    "\n",
    "# Show & performance metadata\n",
    "static_train = torch.index_select(static_data, 0, train_indexes).to(device).float()\n",
    "static_test = torch.index_select(static_data, 0, test_indexes).to(device).float()\n",
    "\n",
    "# Weekly sales and pricing data\n",
    "dynamic_train = torch.index_select(dynamic_data, 0, train_indexes).to(device).float()\n",
    "dynamic_test = torch.index_select(dynamic_data, 0, test_indexes).to(device).float()"
   ]
  },
  {
   "cell_type": "markdown",
   "id": "5f0ba8b1-ae76-4b1e-9ad3-1d7b400fb9b3",
   "metadata": {},
   "source": [
    "# 3. Some simple visualisations"
   ]
  },
  {
   "cell_type": "code",
   "execution_count": 11,
   "id": "c7b12c4d-56a0-416d-832e-a34ace096ece",
   "metadata": {},
   "outputs": [
    {
     "data": {
      "text/plain": [
       "<AxesSubplot:xlabel='week', ylabel='pct.capacity'>"
      ]
     },
     "execution_count": 11,
     "metadata": {},
     "output_type": "execute_result"
    },
    {
     "data": {
      "image/png": "[encoded data removed]",
      "text/plain": [
       "<Figure size 432x288 with 1 Axes>"
      ]
     },
     "metadata": {
      "needs_background": "light"
     },
     "output_type": "display_data"
    }
   ],
   "source": [
    "def sample_performance(i):\n",
    "    idx = np.random.choice(dynamic_train.shape[0])\n",
    "    data = dynamic_train[idx, :, -1]\n",
    "    return pd.DataFrame([\n",
    "        {'performance_id': i, 'week': w, 'pct.capacity': t.item()}\n",
    "        for w, t in enumerate(data)\n",
    "    ])\n",
    "\n",
    "data = pd.concat([sample_performance(i) for i in range(50)], ignore_index=True)\n",
    "\n",
    "sns.lineplot(x='week', y='pct.capacity', hue='performance_id', data=data, legend=None)"
   ]
  },
  {
   "cell_type": "markdown",
   "id": "3565389a-e5de-4fe8-87c8-019b387fb2f1",
   "metadata": {},
   "source": [
    "This sample of sales curves shows a great deal of variety.  We have examples of linear, sub-linear and super-linear growth in sold capacity, as well as some more complex saturating-sigmoid type curves.  A handful of the sales curves show sudden jumps in sold capacity.  Apparently this is due to third party agents reporting large blocks of sales all in one go.  Clearly, artefacts like this make predictions difficult - unless we are somehow able to collect additional data that might suggest that these blocks of sales are expected."
   ]
  },
  {
   "cell_type": "code",
   "execution_count": 12,
   "id": "8214ead4-1487-410f-87c7-45be80cd9ae9",
   "metadata": {},
   "outputs": [
    {
     "data": {
      "text/plain": [
       "<seaborn.axisgrid.FacetGrid at 0x277923eea30>"
      ]
     },
     "execution_count": 12,
     "metadata": {},
     "output_type": "execute_result"
    },
    {
     "data": {
      "image/png": "[encoded data removed]",
      "text/plain": [
       "<Figure size 360x360 with 1 Axes>"
      ]
     },
     "metadata": {
      "needs_background": "light"
     },
     "output_type": "display_data"
    }
   ],
   "source": [
    "sns.displot(\n",
    "    data = dynamic_train[:, -1, -1].to('cpu')\n",
    ")"
   ]
  },
  {
   "cell_type": "markdown",
   "id": "d7ad35e2-0e03-41af-a371-a33887e7463f",
   "metadata": {},
   "source": [
    "The plot above shows the distibution of final % capacities sold across each of the performances.  Again, significant variation and no clear, unimodal distribution."
   ]
  },
  {
   "cell_type": "markdown",
   "id": "0ad5be56-d5a7-450c-9943-9e432ebdbbba",
   "metadata": {},
   "source": [
    "# 4. Datasets and Dataloaders"
   ]
  },
  {
   "cell_type": "markdown",
   "id": "41312767-dad0-4604-848b-a9fe302e19be",
   "metadata": {},
   "source": [
    "With 20 weeks of sales data, we will use the first 10 weeks to predict the final 10 weeks.  We call the first 10 weeks the `lookback` timeframe and the final 10 weeks the `lookahead` timeframe."
   ]
  },
  {
   "cell_type": "code",
   "execution_count": 13,
   "id": "42d86080-9079-4a01-84d8-7a7c46f09ee6",
   "metadata": {},
   "outputs": [
    {
     "name": "stdout",
     "output_type": "stream",
     "text": [
      "lookahead is 10\n"
     ]
    }
   ],
   "source": [
    "lookback = 10\n",
    "lookahead = dynamic_data.size(1) - lookback\n",
    "print(f\"lookahead is {lookahead}\")"
   ]
  },
  {
   "cell_type": "markdown",
   "id": "be435de9-260f-46bd-a1b0-ae496cbec3ce",
   "metadata": {},
   "source": [
    "The following code implements a custom dataset.  Yielding a value via `__getitem__()` results in the following:\n",
    "\n",
    "1. A scalar `performance_id`, so that we can reference the performance if we want to.\n",
    "2. A size (54) tensor called `static_data` which contains the show and performance metadata.\n",
    "3. A size (`lookback`, 3) tensor called `past_tensor` which contains pricing, sales and week encoding.\n",
    "4. A size (`lookahead`, 3) tensor called `future_tensor` which contains pricing, sales and week encoding.  Importantly, the sold capacity data is offset by 1 week, meaning that the decoder model is fed with the _previous_ week's sold capacity and the _current_ week's week encoding and pricing data.\n",
    "5. A size (`lookahead`) tensor called `target_tensor` which contains future sold capacity values.  This is used to compare the model's prediction of the next week's sales with the actual sales seen.\n",
    "\n",
    "An additional method, `get_by_key()`, allows us to return the tensors for a specific `performance_id`.  This is helpful for debugging, and for illustrating particular fits later on."
   ]
  },
  {
   "cell_type": "code",
   "execution_count": 14,
   "id": "372f092d-7e15-4bf6-9e37-0e6972861302",
   "metadata": {},
   "outputs": [],
   "source": [
    "from torch.utils.data import Dataset\n",
    "\n",
    "class TensorSizeMismatch(Exception):\n",
    "    \"\"\"Raised when the static and dynamic tensors have a different size along the 0th axis.\"\"\"\n",
    "    pass\n",
    "\n",
    "class InvalidWeekSplit(Exception):\n",
    "    \"\"\"Raised when the split between training and test weeks is not valid.\"\"\"\n",
    "    pass\n",
    "\n",
    "class InvalidKey(Exception):\n",
    "    \"\"\"Raised when an invalid performance_id is requested.\"\"\"\n",
    "    pass\n",
    "\n",
    "class ShowDataset(torch.utils.data.Dataset):\n",
    "    \n",
    "    def __init__(self, keys, static_data, dynamic_data, lookback=10):\n",
    "        \n",
    "        if static_data.size(0) != dynamic_data.size(0):\n",
    "            raise TensorSizeMismatch()\n",
    "\n",
    "        self.static_data_ = static_data\n",
    "        self.dynamic_data_ = dynamic_data\n",
    "        self.keys_ = np.array(keys)\n",
    "        \n",
    "        self.n_weeks_  = dynamic_data.size(1)\n",
    "        self.lookback_ = lookback\n",
    "        \n",
    "        if self.n_weeks_ <= self.lookback_:\n",
    "            raise(InvalidWeekSplit)\n",
    "        else:\n",
    "            self.lookahead_ = self.n_weeks_ - self.lookback_\n",
    "                \n",
    "    def __len__(self):\n",
    "        return self.dynamic_data_.size(0)\n",
    "\n",
    "    def __getitem__(self, idx):\n",
    "        return (\n",
    "            self.keys_[idx],\n",
    "            # Static Tensor\n",
    "            self.static_data_[idx], \n",
    "            # Past Tensor\n",
    "            self.dynamic_data_[idx, 0:self.lookback_], \n",
    "            # Future Tensor\n",
    "            torch.concat([\n",
    "                self.dynamic_data_[idx, self.lookback_:self.lookback_+self.lookahead_, :-1],\n",
    "                self.dynamic_data_[idx, self.lookback_-1:self.lookback_+self.lookahead_-1, -1].unsqueeze(1)\n",
    "            ], dim=1),\n",
    "            # Target Tensor\n",
    "            self.dynamic_data_[idx, self.lookback_:self.lookback_+self.lookahead_, -1]\n",
    "        )\n",
    "    \n",
    "    def get_by_key(self, key):\n",
    "        try:\n",
    "            idx = np.where(self.keys_ == key)[0][0]\n",
    "            return self.__getitem__(idx)\n",
    "        except IndexError:\n",
    "            raise InvalidKey()"
   ]
  },
  {
   "cell_type": "code",
   "execution_count": 15,
   "id": "b9775e0c-8ad6-491c-955f-885f57d9506c",
   "metadata": {},
   "outputs": [],
   "source": [
    "train_dataset = ShowDataset(train_keys, static_train, dynamic_train, lookback=lookback)\n",
    "test_dataset = ShowDataset(test_keys, static_test, dynamic_test, lookback=lookback)"
   ]
  },
  {
   "cell_type": "markdown",
   "id": "13dc24ec-b98a-4c57-8437-dba4b06566bd",
   "metadata": {},
   "source": [
    "We wrap the training and test datasets up into dataloaders that will serve batches of examples.  Small batches were found to work better than large batches for this dataset."
   ]
  },
  {
   "cell_type": "code",
   "execution_count": 16,
   "id": "327ade21-5a75-4940-b456-854d126732e8",
   "metadata": {},
   "outputs": [],
   "source": [
    "batch_size = 16"
   ]
  },
  {
   "cell_type": "code",
   "execution_count": 17,
   "id": "5f06be87-5730-4800-ad84-96de6a0f3ef5",
   "metadata": {},
   "outputs": [],
   "source": [
    "train_dataloader = DataLoader(train_dataset, batch_size=batch_size, shuffle=True)\n",
    "test_dataloader = DataLoader(test_dataset, batch_size=batch_size, shuffle=True)"
   ]
  },
  {
   "cell_type": "markdown",
   "id": "8141bc4d-6456-45dd-87b5-f20f4955d12b",
   "metadata": {},
   "source": [
    "# 5. Model Definition"
   ]
  },
  {
   "cell_type": "markdown",
   "id": "6e4e5e17-289b-4001-bc11-a31e4993504a",
   "metadata": {},
   "source": [
    "The model is a variant of a simple seq2seq architecture, with no attention mechanism.  The variations to the standard seq2seq architecture are:\n",
    "\n",
    "1. The addition of a feedforward network as the first stage of the model called the \"static encoder\".  This \"encodes\" the show & performance metadata and can be thought of as a \"contextual prior\" for the subsequent stages of the model, setting up its expectations for the kind of sales patterns to come.  This encoding is used as the initial hidden state of the main encoder stage.\n",
    "2. The addition of a skip-connection, concatenating the context vector produced by the static encoder and the final hidden state from the dynamic encoder.  This helps preserve the information in the contextual prior for use by the decoder stage, and was found to improve performance.\n",
    "\n",
    "I also tried augmenting the following model with a simple attention mechanism (and with increasing the size of the hidden state), but found myself on the wrong side of the bias-variance trade-off - even though I increased the dropout rate aggressively.  Thus, what follows is the simplest model which does a good job of fitting to the observed data.  \n",
    "\n",
    "We shouldn't be surprised that an attention mechanism doesn't improve matters.  Attention offers a way for a network to weight the importance of certain earlier observations for particular values of the output sequence.  It was developed for language processing tasks, where the significance of words in an encoded document will have difference relevance for different words in the output document.  In our task things are simpler: we have encoded the show / performance metadata; then we attempt to summarise the first `lookback` weeks of the sale data into a single hidden state.  \n",
    "\n",
    "If we look at the examples of the sales curves from earlier, we can see that although there is great variation, we could imagine modelling any particular one by selecting one of a small handful of growth curves and fitting a few parameters to it.  We can imagine, therefore, that the dynamic encoder state  really only needs to encode a small amount of information decribing the expected evolution of the sales curve, and its functional form.  Perhaps this is why attention adds nothing."
   ]
  },
  {
   "attachments": {
    "252dfb91-82bf-453c-b022-44a8d5585acf.png": {
     "image/png": "[encoded data removed]"
    }
   },
   "cell_type": "markdown",
   "id": "cfcf4bb7-c1c8-4535-8dd5-7790bd56be32",
   "metadata": {},
   "source": [
    "![model_diagram.png](attachment:252dfb91-82bf-453c-b022-44a8d5585acf.png)"
   ]
  },
  {
   "cell_type": "markdown",
   "id": "7c7ed118-6572-4b67-8bb9-b965ffe39569",
   "metadata": {},
   "source": [
    "## The Static Encoder"
   ]
  },
  {
   "cell_type": "code",
   "execution_count": 18,
   "id": "0e6908bf-76d4-45a6-b77f-f0c231536e74",
   "metadata": {},
   "outputs": [],
   "source": [
    "class StaticEncoder(nn.Module):\n",
    "    \n",
    "    def __init__(self, input_size, hidden_size, dropout_rate=0.1):\n",
    "        super(StaticEncoder, self).__init__()\n",
    "        self.hidden_size = hidden_size\n",
    "        self.linear_1 = nn.Linear(in_features=input_size, out_features=hidden_size, bias=True)\n",
    "        self.dropout = nn.Dropout(p=dropout_rate)\n",
    "        self.linear_2 = nn.Linear(in_features=hidden_size, out_features=hidden_size, bias=True)\n",
    "        self.relu = nn.ReLU()\n",
    "\n",
    "    def forward(self, input_, use_dropout=True):\n",
    "        output = self.linear_1(input_)\n",
    "        output = self.relu(output)\n",
    "        \n",
    "        if use_dropout:\n",
    "            output = self.dropout(output)\n",
    "            \n",
    "        output = self.linear_2(output)\n",
    "        output = self.relu(output)\n",
    "        \n",
    "        if use_dropout:\n",
    "            output = self.dropout(output)\n",
    "        \n",
    "        return output.view(1, -1, self.hidden_size)\n",
    "    "
   ]
  },
  {
   "cell_type": "markdown",
   "id": "332b9263-a077-48bf-9197-610b17a600c3",
   "metadata": {},
   "source": [
    "## The Sequence Encoder"
   ]
  },
  {
   "cell_type": "code",
   "execution_count": 19,
   "id": "a38b2add-26e6-4130-9ef6-ee6d7150f239",
   "metadata": {},
   "outputs": [],
   "source": [
    "class SequenceEncoder(nn.Module):\n",
    "\n",
    "    def __init__(self, n_features, hidden_size, dropout_rate=0.1):\n",
    "        super(SequenceEncoder, self).__init__()\n",
    "        self.hidden_size = hidden_size\n",
    "        self.dropout = nn.Dropout(p=dropout_rate)\n",
    "        self.lstm = nn.LSTM(n_features, hidden_size)\n",
    "        \n",
    "    def forward(self, input_, hidden, use_dropout=True):\n",
    "        output, hidden = self.lstm(input_, hidden)\n",
    "        \n",
    "        if use_dropout:            \n",
    "            hidden = (self.dropout(hidden[0]), self.dropout(hidden[1]))\n",
    "            \n",
    "        return output, hidden\n",
    "    \n",
    "    def init_carry_state(self, batch_size=1):\n",
    "        return torch.zeros(1, batch_size, self.hidden_size, device=device)"
   ]
  },
  {
   "cell_type": "markdown",
   "id": "c3211b88-a054-4096-8310-af607e5d5b9c",
   "metadata": {
    "tags": []
   },
   "source": [
    "## The Sequence Decoder"
   ]
  },
  {
   "cell_type": "code",
   "execution_count": 20,
   "id": "f4e2a777-fa80-4928-80e0-24237edad46e",
   "metadata": {},
   "outputs": [],
   "source": [
    "class Decoder(nn.Module):\n",
    "    \n",
    "    def __init__(self, n_features, hidden_size, dropout_rate=0.1):\n",
    "        super(Decoder, self).__init__()\n",
    "        self.hidden_size = hidden_size\n",
    "        self.n_features = n_features\n",
    "        self.dropout = nn.Dropout(p=dropout_rate)\n",
    "        self.lstm = nn.LSTM(n_features, hidden_size)\n",
    "        self.out = nn.Linear(hidden_size, 1)\n",
    "        self.sigmoid = nn.Sigmoid()\n",
    "\n",
    "    def forward(self, input_, hidden, use_logits=False, use_dropout=True):\n",
    "        output = F.relu(input_)\n",
    "        output, hidden = self.lstm(output, hidden)\n",
    "        \n",
    "        if use_dropout:\n",
    "            hidden = (self.dropout(hidden[0]), self.dropout(hidden[1]))\n",
    "            \n",
    "        output = self.out(output[0])\n",
    "        \n",
    "        if not use_logits:\n",
    "            output = self.sigmoid(output)\n",
    "            \n",
    "        return output, hidden"
   ]
  },
  {
   "cell_type": "markdown",
   "id": "3ae431cf-f1d6-4309-a870-cf3b7a248de1",
   "metadata": {},
   "source": [
    "# Model Initialisation"
   ]
  },
  {
   "cell_type": "code",
   "execution_count": 21,
   "id": "b801e364-4b33-40cc-921d-98d5ebb0435f",
   "metadata": {},
   "outputs": [],
   "source": [
    "static_vector_size = static_train.size(1)\n",
    "n_dynamic_features = dynamic_train.size(2)\n",
    "hidden_size = 64\n",
    "dropout_rate = 0.1\n",
    "n_epochs = 100\n",
    "initial_learning_rate = 1e-3\n",
    "# param for learning rate scheduler.  Set to achieve a LR of 1e-4 after ~100 iterations.\n",
    "gamma = 0.97"
   ]
  },
  {
   "cell_type": "code",
   "execution_count": 22,
   "id": "553c91ad-42b7-4ec4-bfe2-9a51a25cbccb",
   "metadata": {},
   "outputs": [],
   "source": [
    "# Initialise architecture\n",
    "static_encoder = StaticEncoder(\n",
    "    input_size=static_vector_size, hidden_size=hidden_size, dropout_rate=dropout_rate\n",
    ").to(device)\n",
    "\n",
    "sequence_encoder = SequenceEncoder(\n",
    "    n_features=n_dynamic_features, hidden_size=hidden_size, dropout_rate=dropout_rate\n",
    ").to(device)\n",
    "\n",
    "# The skip-connection requires us to concatenate the static context vector to the dynamic encoder hidden state.\n",
    "# Therefore the decoder needs a hidden state 2 x the size of the encoder hidden states.\n",
    "decoder = Decoder(\n",
    "    n_features=n_dynamic_features, hidden_size=2*hidden_size, dropout_rate=dropout_rate\n",
    ").to(device)"
   ]
  },
  {
   "cell_type": "code",
   "execution_count": 23,
   "id": "db64d90f-68bc-4722-970d-c3d14c408ade",
   "metadata": {},
   "outputs": [],
   "source": [
    "# Initialise optimizers\n",
    "static_encoder_optimizer = optim.Adam(static_encoder.parameters(), lr=initial_learning_rate)\n",
    "sequence_encoder_optimizer = optim.Adam(sequence_encoder.parameters(), lr=initial_learning_rate)\n",
    "decoder_optimizer = optim.Adam(decoder.parameters(), lr=initial_learning_rate)"
   ]
  },
  {
   "cell_type": "code",
   "execution_count": 24,
   "id": "84097435-0627-4f2f-988a-e0ed50dd23c8",
   "metadata": {},
   "outputs": [],
   "source": [
    "# Learning rate schedule - important for small, heterogeneous datasets.\n",
    "static_encoder_scheduler = torch.optim.lr_scheduler.ExponentialLR(static_encoder_optimizer, gamma)\n",
    "sequence_encoder_scheduler = torch.optim.lr_scheduler.ExponentialLR(sequence_encoder_optimizer, gamma)\n",
    "decoder_scheduler = torch.optim.lr_scheduler.ExponentialLR(decoder_optimizer, gamma)"
   ]
  },
  {
   "cell_type": "code",
   "execution_count": 36,
   "id": "46565e8e-ceca-47b4-8bc9-5ab6d779391e",
   "metadata": {},
   "outputs": [],
   "source": [
    "# Using a sum rather than a mean for the MSE loss means we can evaluate it either one timestep\n",
    "# at a time, or across a whole prediction tensor.\n",
    "loss_fn = nn.MSELoss(reduction='sum')"
   ]
  },
  {
   "cell_type": "markdown",
   "id": "d54023d9-719e-4899-a202-059a51014767",
   "metadata": {},
   "source": [
    "# Training and Validation Functions"
   ]
  },
  {
   "cell_type": "code",
   "execution_count": 26,
   "id": "0a7451dc-7ae3-476f-96db-f75a4f337571",
   "metadata": {
    "tags": []
   },
   "outputs": [],
   "source": [
    "def train(\n",
    "    static_tensor,\n",
    "    past_tensor, \n",
    "    future_tensor, \n",
    "    target_tensor,\n",
    "    static_encoder, \n",
    "    sequence_encoder, \n",
    "    decoder,\n",
    "    static_encoder_optimizer,\n",
    "    sequence_encoder_optimizer, \n",
    "    decoder_optimizer, \n",
    "    loss_fn,\n",
    "    teacher_forcing_ratio=0.5,\n",
    "    use_logits=True,\n",
    "    use_dropout=True\n",
    "):\n",
    "\n",
    "    batch_size = future_tensor.shape[0]\n",
    "    lookahead = future_tensor.shape[1] - 1\n",
    "    \n",
    "    loss = 0\n",
    "\n",
    "    static_encoder.zero_grad()\n",
    "    sequence_encoder.zero_grad()\n",
    "    decoder.zero_grad()\n",
    "    \n",
    "    static_encoder_output = static_encoder(static_tensor, use_dropout=use_dropout)\n",
    "    \n",
    "    sequence_encoder_hidden = (\n",
    "        # Hidden state\n",
    "        static_encoder_output,\n",
    "        # Carry state\n",
    "        sequence_encoder.init_carry_state(batch_size=batch_size)\n",
    "    )\n",
    "\n",
    "    sequence_encoder_output, sequence_encoder_hidden = sequence_encoder(\n",
    "        # Transform to (SEQ x BATCH x FEATURES) for LSTM\n",
    "        past_tensor.transpose(0,1),\n",
    "        sequence_encoder_hidden,\n",
    "        use_dropout=use_dropout\n",
    "    )\n",
    "        \n",
    "    # This is the skip-connection for the context vector\n",
    "    decoder_hidden = (\n",
    "        torch.concat([sequence_encoder_hidden[0], static_encoder_output], dim=2),\n",
    "        torch.concat([sequence_encoder_hidden[1], static_encoder_output], dim=2)\n",
    "    )\n",
    "    \n",
    "    # First decoder input is the first week to be predicted.\n",
    "    decoder_input = future_tensor[:, 0, :].unsqueeze(0)\n",
    "\n",
    "    use_teacher_forcing = True if random.random() < teacher_forcing_ratio else False\n",
    "\n",
    "    # Feed one week at a time into the decoder.\n",
    "    for week in range(lookahead):\n",
    "        decoder_output, decoder_hidden = decoder(\n",
    "            decoder_input, decoder_hidden, use_logits=use_logits, use_dropout=use_dropout\n",
    "        )\n",
    "        \n",
    "        next_decoder_input = future_tensor[:, week+1, :].unsqueeze(0)\n",
    "        target = target_tensor[:, week].unsqueeze(1)\n",
    "        prediction = decoder_output\n",
    "        loss += loss_fn(prediction, target)\n",
    "        \n",
    "        if use_teacher_forcing:\n",
    "            # If using teacher forcing, the next decoder input remains untouched.\n",
    "            decoder_input = next_decoder_input\n",
    "        else:\n",
    "            # otherwise overwrite the targets in the next input with the prediction\n",
    "            decoder_input = torch.concat([\n",
    "                next_decoder_input[:, :, 0:-1], \n",
    "                prediction.unsqueeze(0).detach()\n",
    "            ], dim=2)\n",
    "\n",
    "    loss.backward()\n",
    "    \n",
    "    # TBH exploding gradients was never really a problem in this model.\n",
    "    torch.nn.utils.clip_grad_norm_(static_encoder.parameters(), max_norm=2., norm_type=2)\n",
    "    torch.nn.utils.clip_grad_norm_(sequence_encoder.parameters(), max_norm=2., norm_type=2)\n",
    "    torch.nn.utils.clip_grad_norm_(decoder.parameters(), max_norm=2., norm_type=2)\n",
    "\n",
    "    static_encoder_optimizer.step()\n",
    "    sequence_encoder_optimizer.step()\n",
    "    decoder_optimizer.step()\n",
    "\n",
    "    return loss.item() / lookahead"
   ]
  },
  {
   "cell_type": "markdown",
   "id": "d92492af-922c-4824-ab0f-31f4ff5b664d",
   "metadata": {},
   "source": [
    "For evaluation we disable the gradient tracking and evaluate the loss over a validation set."
   ]
  },
  {
   "cell_type": "code",
   "execution_count": 27,
   "id": "414964ac-8162-4e55-9263-6c1053688e30",
   "metadata": {},
   "outputs": [],
   "source": [
    "def evaluate(\n",
    "    static_tensor,\n",
    "    past_tensor, \n",
    "    future_tensor,\n",
    "    target_tensor,\n",
    "    static_encoder, \n",
    "    sequence_encoder, \n",
    "    decoder,\n",
    "    loss_fn,\n",
    "    use_logits=True,\n",
    "    use_dropout=True\n",
    "):\n",
    "\n",
    "    batch_size = future_tensor.shape[0]\n",
    "    lookahead = future_tensor.shape[1] - 1\n",
    "    \n",
    "    loss = 0\n",
    "\n",
    "    with torch.no_grad():\n",
    "        \n",
    "        static_encoder_output = static_encoder(static_tensor, use_dropout=use_dropout)\n",
    "    \n",
    "        sequence_encoder_hidden = (\n",
    "            # Hidden state\n",
    "            static_encoder_output,\n",
    "            # Carry state\n",
    "            sequence_encoder.init_carry_state(batch_size=batch_size)\n",
    "        )\n",
    "\n",
    "        sequence_encoder_output, sequence_encoder_hidden = sequence_encoder(\n",
    "            # Transform to (SEQ x BATCH x FEATURES) for LSTM\n",
    "            past_tensor.transpose(0,1),\n",
    "            sequence_encoder_hidden,\n",
    "            use_dropout=use_dropout\n",
    "        )\n",
    "        \n",
    "        # This is the skip-connection for the context vector\n",
    "        decoder_hidden = (\n",
    "            torch.concat([sequence_encoder_hidden[0], static_encoder_output], dim=2),\n",
    "            torch.concat([sequence_encoder_hidden[1], static_encoder_output], dim=2)\n",
    "        )\n",
    "\n",
    "        # First decoder input is the first week to be predicted.\n",
    "        decoder_input = future_tensor[:, 0, :].unsqueeze(0)\n",
    "\n",
    "        # Feed one week at a time into the decoder.\n",
    "        for week in range(lookahead):\n",
    "            decoder_output, decoder_hidden = decoder(\n",
    "                decoder_input, decoder_hidden, use_logits=use_logits, use_dropout=use_dropout\n",
    "            )\n",
    "            \n",
    "            next_decoder_input = future_tensor[:, week+1, :].unsqueeze(0)\n",
    "            target = target_tensor[:, week].unsqueeze(1)\n",
    "            prediction = decoder_output\n",
    "            loss += loss_fn(prediction, target)\n",
    "            \n",
    "            # overwrite the target in the next input with the prediction\n",
    "            decoder_input = torch.concat([\n",
    "                next_decoder_input[:, :, 0:-1], \n",
    "                prediction.unsqueeze(0).detach()\n",
    "            ], dim=2)\n",
    "\n",
    "        return loss.item() / lookahead"
   ]
  },
  {
   "cell_type": "code",
   "execution_count": 28,
   "id": "a123c6c1-6da4-49ca-acf7-847dca61757c",
   "metadata": {
    "tags": []
   },
   "outputs": [],
   "source": [
    "def training_loop(\n",
    "    train_dataloader,\n",
    "    test_dataloader,\n",
    "    static_encoder, \n",
    "    sequence_encoder, \n",
    "    decoder,\n",
    "    static_encoder_optimizer,\n",
    "    sequence_encoder_optimizer, \n",
    "    decoder_optimizer, \n",
    "    loss_fn,    \n",
    "    n_epochs=20, \n",
    "    teacher_forcing_ratio=0.5, \n",
    "    teacher_forcing_gamma=1.\n",
    "):\n",
    "\n",
    "    loss_history = []\n",
    "\n",
    "    for epoch in range(n_epochs):\n",
    "\n",
    "        training_loss = 0\n",
    "        validation_loss = 0\n",
    "\n",
    "        print(f\"Epoch {epoch}\")\n",
    "\n",
    "        #Train\n",
    "        for batch_id, tensors in tqdm(enumerate(train_dataloader)):\n",
    "\n",
    "            keys, static_tensor, past_tensor, future_tensor, target_tensor = tensors\n",
    "\n",
    "            training_loss += train(\n",
    "                static_tensor,\n",
    "                past_tensor, \n",
    "                future_tensor, \n",
    "                target_tensor,\n",
    "                static_encoder, \n",
    "                sequence_encoder, \n",
    "                decoder,\n",
    "                static_encoder_optimizer,\n",
    "                sequence_encoder_optimizer, \n",
    "                decoder_optimizer, \n",
    "                loss_fn,\n",
    "                teacher_forcing_ratio=teacher_forcing_ratio,\n",
    "                use_logits=False,\n",
    "                use_dropout=True\n",
    "            )\n",
    "\n",
    "        training_loss = training_loss / (batch_id + 1)\n",
    "        print(f\"Training one-step-ahead loss: {training_loss}\")\n",
    "        \n",
    "        static_encoder_scheduler.step()\n",
    "        sequence_encoder_scheduler.step()\n",
    "        decoder_scheduler.step()\n",
    "\n",
    "        # Evaluate\n",
    "        for batch_id, tensors in tqdm(enumerate(test_dataloader)):\n",
    "\n",
    "            keys, static_tensor, past_tensor, future_tensor, target_tensor = tensors\n",
    "\n",
    "            validation_loss += evaluate(\n",
    "                static_tensor,\n",
    "                past_tensor, \n",
    "                future_tensor, \n",
    "                target_tensor,\n",
    "                static_encoder, \n",
    "                sequence_encoder, \n",
    "                decoder,\n",
    "                loss_fn,\n",
    "                use_logits=False,\n",
    "                use_dropout=False\n",
    "            )\n",
    "\n",
    "        validation_loss = validation_loss / (batch_id + 1) \n",
    "        print(f\"Validation one-step-ahead loss: {validation_loss}\")\n",
    "\n",
    "        loss_history.append({\n",
    "            'epoch': epoch, \n",
    "            'training_loss': training_loss, \n",
    "            'validation_loss': validation_loss\n",
    "        })\n",
    "        \n",
    "        teacher_forcing_ratio = teacher_forcing_ratio * teacher_forcing_gamma\n",
    "        \n",
    "    return loss_history        "
   ]
  },
  {
   "cell_type": "markdown",
   "id": "397c0a0d-3040-40a4-96d0-d75f19e4fb1a",
   "metadata": {},
   "source": [
    "Note that we are gradually lowering the teacher forcing ratio as we train.  The idea here is that we gradually move towards a situation where there is no teacher forcing, mimicing the situation of predicting a real time series.  This does, of course, affect the shape of the training loss curve: it will decay slightly more quickly than it otherwise would.\n",
    "\n",
    "The model is too simple to warrant using the Tensorboard."
   ]
  },
  {
   "cell_type": "code",
   "execution_count": 29,
   "id": "3bce785f-1af3-47c2-b347-dd1bfcc5709a",
   "metadata": {
    "collapsed": true,
    "jupyter": {
     "outputs_hidden": true
    },
    "tags": []
   },
   "outputs": [
    {
     "name": "stdout",
     "output_type": "stream",
     "text": [
      "Epoch 0\n"
     ]
    },
    {
     "name": "stderr",
     "output_type": "stream",
     "text": [
      "81it [00:01, 52.47it/s]\n"
     ]
    },
    {
     "name": "stdout",
     "output_type": "stream",
     "text": [
      "Training one-step-ahead loss: 0.5865979629616023\n"
     ]
    },
    {
     "name": "stderr",
     "output_type": "stream",
     "text": [
      "16it [00:00, 192.77it/s]\n"
     ]
    },
    {
     "name": "stdout",
     "output_type": "stream",
     "text": [
      "Validation one-step-ahead loss: 0.40566247204939526\n",
      "Epoch 1\n"
     ]
    },
    {
     "name": "stderr",
     "output_type": "stream",
     "text": [
      "81it [00:01, 70.62it/s]\n"
     ]
    },
    {
     "name": "stdout",
     "output_type": "stream",
     "text": [
      "Training one-step-ahead loss: 0.5569643262973047\n"
     ]
    },
    {
     "name": "stderr",
     "output_type": "stream",
     "text": [
      "16it [00:00, 183.82it/s]\n"
     ]
    },
    {
     "name": "stdout",
     "output_type": "stream",
     "text": [
      "Validation one-step-ahead loss: 0.3598521120018429\n",
      "Epoch 2\n"
     ]
    },
    {
     "name": "stderr",
     "output_type": "stream",
     "text": [
      "81it [00:01, 70.12it/s]\n"
     ]
    },
    {
     "name": "stdout",
     "output_type": "stream",
     "text": [
      "Training one-step-ahead loss: 0.5426649284460904\n"
     ]
    },
    {
     "name": "stderr",
     "output_type": "stream",
     "text": [
      "16it [00:00, 188.16it/s]\n"
     ]
    },
    {
     "name": "stdout",
     "output_type": "stream",
     "text": [
      "Validation one-step-ahead loss: 0.33666051758660215\n",
      "Epoch 3\n"
     ]
    },
    {
     "name": "stderr",
     "output_type": "stream",
     "text": [
      "81it [00:01, 69.89it/s]\n"
     ]
    },
    {
     "name": "stdout",
     "output_type": "stream",
     "text": [
      "Training one-step-ahead loss: 0.36737306607664866\n"
     ]
    },
    {
     "name": "stderr",
     "output_type": "stream",
     "text": [
      "16it [00:00, 172.05it/s]\n"
     ]
    },
    {
     "name": "stdout",
     "output_type": "stream",
     "text": [
      "Validation one-step-ahead loss: 0.13087465634776485\n",
      "Epoch 4\n"
     ]
    },
    {
     "name": "stderr",
     "output_type": "stream",
     "text": [
      "81it [00:01, 68.94it/s]\n"
     ]
    },
    {
     "name": "stdout",
     "output_type": "stream",
     "text": [
      "Training one-step-ahead loss: 0.2881085229386026\n"
     ]
    },
    {
     "name": "stderr",
     "output_type": "stream",
     "text": [
      "16it [00:00, 200.01it/s]\n"
     ]
    },
    {
     "name": "stdout",
     "output_type": "stream",
     "text": [
      "Validation one-step-ahead loss: 0.12148721184995437\n",
      "Epoch 5\n"
     ]
    },
    {
     "name": "stderr",
     "output_type": "stream",
     "text": [
      "81it [00:01, 68.70it/s]\n"
     ]
    },
    {
     "name": "stdout",
     "output_type": "stream",
     "text": [
      "Training one-step-ahead loss: 0.3159434922928674\n"
     ]
    },
    {
     "name": "stderr",
     "output_type": "stream",
     "text": [
      "16it [00:00, 197.64it/s]\n"
     ]
    },
    {
     "name": "stdout",
     "output_type": "stream",
     "text": [
      "Validation one-step-ahead loss: 0.10602404591110019\n",
      "Epoch 6\n"
     ]
    },
    {
     "name": "stderr",
     "output_type": "stream",
     "text": [
      "81it [00:01, 69.95it/s]\n"
     ]
    },
    {
     "name": "stdout",
     "output_type": "stream",
     "text": [
      "Training one-step-ahead loss: 0.23468775366559436\n"
     ]
    },
    {
     "name": "stderr",
     "output_type": "stream",
     "text": [
      "16it [00:00, 195.12it/s]\n"
     ]
    },
    {
     "name": "stdout",
     "output_type": "stream",
     "text": [
      "Validation one-step-ahead loss: 0.1470685419109133\n",
      "Epoch 7\n"
     ]
    },
    {
     "name": "stderr",
     "output_type": "stream",
     "text": [
      "81it [00:01, 70.59it/s]\n"
     ]
    },
    {
     "name": "stdout",
     "output_type": "stream",
     "text": [
      "Training one-step-ahead loss: 0.2234023905094758\n"
     ]
    },
    {
     "name": "stderr",
     "output_type": "stream",
     "text": [
      "16it [00:00, 192.77it/s]\n"
     ]
    },
    {
     "name": "stdout",
     "output_type": "stream",
     "text": [
      "Validation one-step-ahead loss: 0.1729520137111346\n",
      "Epoch 8\n"
     ]
    },
    {
     "name": "stderr",
     "output_type": "stream",
     "text": [
      "81it [00:01, 70.43it/s]\n"
     ]
    },
    {
     "name": "stdout",
     "output_type": "stream",
     "text": [
      "Training one-step-ahead loss: 0.18807454730175815\n"
     ]
    },
    {
     "name": "stderr",
     "output_type": "stream",
     "text": [
      "16it [00:00, 195.05it/s]\n"
     ]
    },
    {
     "name": "stdout",
     "output_type": "stream",
     "text": [
      "Validation one-step-ahead loss: 0.08277975167665215\n",
      "Epoch 9\n"
     ]
    },
    {
     "name": "stderr",
     "output_type": "stream",
     "text": [
      "81it [00:01, 66.89it/s]\n"
     ]
    },
    {
     "name": "stdout",
     "output_type": "stream",
     "text": [
      "Training one-step-ahead loss: 0.15884516865464723\n"
     ]
    },
    {
     "name": "stderr",
     "output_type": "stream",
     "text": [
      "16it [00:00, 199.92it/s]\n"
     ]
    },
    {
     "name": "stdout",
     "output_type": "stream",
     "text": [
      "Validation one-step-ahead loss: 0.09333654410309263\n",
      "Epoch 10\n"
     ]
    },
    {
     "name": "stderr",
     "output_type": "stream",
     "text": [
      "81it [00:01, 66.12it/s]\n"
     ]
    },
    {
     "name": "stdout",
     "output_type": "stream",
     "text": [
      "Training one-step-ahead loss: 0.14515732901250056\n"
     ]
    },
    {
     "name": "stderr",
     "output_type": "stream",
     "text": [
      "16it [00:00, 173.92it/s]\n"
     ]
    },
    {
     "name": "stdout",
     "output_type": "stream",
     "text": [
      "Validation one-step-ahead loss: 0.06085388114054998\n",
      "Epoch 11\n"
     ]
    },
    {
     "name": "stderr",
     "output_type": "stream",
     "text": [
      "81it [00:01, 62.45it/s]\n"
     ]
    },
    {
     "name": "stdout",
     "output_type": "stream",
     "text": [
      "Training one-step-ahead loss: 0.14654399329906306\n"
     ]
    },
    {
     "name": "stderr",
     "output_type": "stream",
     "text": [
      "16it [00:00, 153.85it/s]\n"
     ]
    },
    {
     "name": "stdout",
     "output_type": "stream",
     "text": [
      "Validation one-step-ahead loss: 0.10260731354355813\n",
      "Epoch 12\n"
     ]
    },
    {
     "name": "stderr",
     "output_type": "stream",
     "text": [
      "81it [00:01, 67.22it/s]\n"
     ]
    },
    {
     "name": "stdout",
     "output_type": "stream",
     "text": [
      "Training one-step-ahead loss: 0.1413183573260392\n"
     ]
    },
    {
     "name": "stderr",
     "output_type": "stream",
     "text": [
      "16it [00:00, 173.92it/s]\n"
     ]
    },
    {
     "name": "stdout",
     "output_type": "stream",
     "text": [
      "Validation one-step-ahead loss: 0.09429203853425053\n",
      "Epoch 13\n"
     ]
    },
    {
     "name": "stderr",
     "output_type": "stream",
     "text": [
      "81it [00:01, 64.80it/s]\n"
     ]
    },
    {
     "name": "stdout",
     "output_type": "stream",
     "text": [
      "Training one-step-ahead loss: 0.13267428107018006\n"
     ]
    },
    {
     "name": "stderr",
     "output_type": "stream",
     "text": [
      "16it [00:00, 190.51it/s]\n"
     ]
    },
    {
     "name": "stdout",
     "output_type": "stream",
     "text": [
      "Validation one-step-ahead loss: 0.07750346014897029\n",
      "Epoch 14\n"
     ]
    },
    {
     "name": "stderr",
     "output_type": "stream",
     "text": [
      "81it [00:01, 68.07it/s]\n"
     ]
    },
    {
     "name": "stdout",
     "output_type": "stream",
     "text": [
      "Training one-step-ahead loss: 0.13442291621890418\n"
     ]
    },
    {
     "name": "stderr",
     "output_type": "stream",
     "text": [
      "16it [00:00, 177.78it/s]\n"
     ]
    },
    {
     "name": "stdout",
     "output_type": "stream",
     "text": [
      "Validation one-step-ahead loss: 0.07119105859763092\n",
      "Epoch 15\n"
     ]
    },
    {
     "name": "stderr",
     "output_type": "stream",
     "text": [
      "81it [00:01, 66.39it/s]\n"
     ]
    },
    {
     "name": "stdout",
     "output_type": "stream",
     "text": [
      "Training one-step-ahead loss: 0.12138473133164336\n"
     ]
    },
    {
     "name": "stderr",
     "output_type": "stream",
     "text": [
      "16it [00:00, 195.10it/s]\n"
     ]
    },
    {
     "name": "stdout",
     "output_type": "stream",
     "text": [
      "Validation one-step-ahead loss: 0.059678916715913355\n",
      "Epoch 16\n"
     ]
    },
    {
     "name": "stderr",
     "output_type": "stream",
     "text": [
      "81it [00:01, 69.78it/s]\n"
     ]
    },
    {
     "name": "stdout",
     "output_type": "stream",
     "text": [
      "Training one-step-ahead loss: 0.10778186315944002\n"
     ]
    },
    {
     "name": "stderr",
     "output_type": "stream",
     "text": [
      "16it [00:00, 195.13it/s]\n"
     ]
    },
    {
     "name": "stdout",
     "output_type": "stream",
     "text": [
      "Validation one-step-ahead loss: 0.06288392055365774\n",
      "Epoch 17\n"
     ]
    },
    {
     "name": "stderr",
     "output_type": "stream",
     "text": [
      "81it [00:01, 69.07it/s]\n"
     ]
    },
    {
     "name": "stdout",
     "output_type": "stream",
     "text": [
      "Training one-step-ahead loss: 0.10563652970622432\n"
     ]
    },
    {
     "name": "stderr",
     "output_type": "stream",
     "text": [
      "16it [00:00, 195.13it/s]\n"
     ]
    },
    {
     "name": "stdout",
     "output_type": "stream",
     "text": [
      "Validation one-step-ahead loss: 0.048617628403007984\n",
      "Epoch 18\n"
     ]
    },
    {
     "name": "stderr",
     "output_type": "stream",
     "text": [
      "81it [00:01, 69.23it/s]\n"
     ]
    },
    {
     "name": "stdout",
     "output_type": "stream",
     "text": [
      "Training one-step-ahead loss: 0.10719739289031928\n"
     ]
    },
    {
     "name": "stderr",
     "output_type": "stream",
     "text": [
      "16it [00:00, 197.53it/s]\n"
     ]
    },
    {
     "name": "stdout",
     "output_type": "stream",
     "text": [
      "Validation one-step-ahead loss: 0.062262105238106505\n",
      "Epoch 19\n"
     ]
    },
    {
     "name": "stderr",
     "output_type": "stream",
     "text": [
      "81it [00:01, 70.71it/s]\n"
     ]
    },
    {
     "name": "stdout",
     "output_type": "stream",
     "text": [
      "Training one-step-ahead loss: 0.09849543107062862\n"
     ]
    },
    {
     "name": "stderr",
     "output_type": "stream",
     "text": [
      "16it [00:00, 171.98it/s]\n"
     ]
    },
    {
     "name": "stdout",
     "output_type": "stream",
     "text": [
      "Validation one-step-ahead loss: 0.07077355848418343\n",
      "Epoch 20\n"
     ]
    },
    {
     "name": "stderr",
     "output_type": "stream",
     "text": [
      "81it [00:01, 69.23it/s]\n"
     ]
    },
    {
     "name": "stdout",
     "output_type": "stream",
     "text": [
      "Training one-step-ahead loss: 0.09124810026833387\n"
     ]
    },
    {
     "name": "stderr",
     "output_type": "stream",
     "text": [
      "16it [00:00, 199.91it/s]\n"
     ]
    },
    {
     "name": "stdout",
     "output_type": "stream",
     "text": [
      "Validation one-step-ahead loss: 0.044509808222452804\n",
      "Epoch 21\n"
     ]
    },
    {
     "name": "stderr",
     "output_type": "stream",
     "text": [
      "81it [00:01, 69.34it/s]\n"
     ]
    },
    {
     "name": "stdout",
     "output_type": "stream",
     "text": [
      "Training one-step-ahead loss: 0.09164163077809682\n"
     ]
    },
    {
     "name": "stderr",
     "output_type": "stream",
     "text": [
      "16it [00:00, 199.92it/s]\n"
     ]
    },
    {
     "name": "stdout",
     "output_type": "stream",
     "text": [
      "Validation one-step-ahead loss: 0.038826936441991075\n",
      "Epoch 22\n"
     ]
    },
    {
     "name": "stderr",
     "output_type": "stream",
     "text": [
      "81it [00:01, 68.59it/s]\n"
     ]
    },
    {
     "name": "stdout",
     "output_type": "stream",
     "text": [
      "Training one-step-ahead loss: 0.09428806821668755\n"
     ]
    },
    {
     "name": "stderr",
     "output_type": "stream",
     "text": [
      "16it [00:00, 210.52it/s]\n"
     ]
    },
    {
     "name": "stdout",
     "output_type": "stream",
     "text": [
      "Validation one-step-ahead loss: 0.05789439690609774\n",
      "Epoch 23\n"
     ]
    },
    {
     "name": "stderr",
     "output_type": "stream",
     "text": [
      "81it [00:01, 68.24it/s]\n"
     ]
    },
    {
     "name": "stdout",
     "output_type": "stream",
     "text": [
      "Training one-step-ahead loss: 0.08471465077051901\n"
     ]
    },
    {
     "name": "stderr",
     "output_type": "stream",
     "text": [
      "16it [00:00, 163.25it/s]\n"
     ]
    },
    {
     "name": "stdout",
     "output_type": "stream",
     "text": [
      "Validation one-step-ahead loss: 0.053634830440084144\n",
      "Epoch 24\n"
     ]
    },
    {
     "name": "stderr",
     "output_type": "stream",
     "text": [
      "81it [00:01, 68.77it/s]\n"
     ]
    },
    {
     "name": "stdout",
     "output_type": "stream",
     "text": [
      "Training one-step-ahead loss: 0.08125848826966335\n"
     ]
    },
    {
     "name": "stderr",
     "output_type": "stream",
     "text": [
      "16it [00:00, 205.04it/s]\n"
     ]
    },
    {
     "name": "stdout",
     "output_type": "stream",
     "text": [
      "Validation one-step-ahead loss: 0.04364438582625654\n",
      "Epoch 25\n"
     ]
    },
    {
     "name": "stderr",
     "output_type": "stream",
     "text": [
      "81it [00:01, 70.19it/s]\n"
     ]
    },
    {
     "name": "stdout",
     "output_type": "stream",
     "text": [
      "Training one-step-ahead loss: 0.07937494842195057\n"
     ]
    },
    {
     "name": "stderr",
     "output_type": "stream",
     "text": [
      "16it [00:00, 205.05it/s]\n"
     ]
    },
    {
     "name": "stdout",
     "output_type": "stream",
     "text": [
      "Validation one-step-ahead loss: 0.056292453366849154\n",
      "Epoch 26\n"
     ]
    },
    {
     "name": "stderr",
     "output_type": "stream",
     "text": [
      "81it [00:01, 70.46it/s]\n"
     ]
    },
    {
     "name": "stdout",
     "output_type": "stream",
     "text": [
      "Training one-step-ahead loss: 0.08428499820055788\n"
     ]
    },
    {
     "name": "stderr",
     "output_type": "stream",
     "text": [
      "16it [00:00, 190.48it/s]\n"
     ]
    },
    {
     "name": "stdout",
     "output_type": "stream",
     "text": [
      "Validation one-step-ahead loss: 0.05774727173977428\n",
      "Epoch 27\n"
     ]
    },
    {
     "name": "stderr",
     "output_type": "stream",
     "text": [
      "81it [00:01, 71.45it/s]\n"
     ]
    },
    {
     "name": "stdout",
     "output_type": "stream",
     "text": [
      "Training one-step-ahead loss: 0.07649675722965979\n"
     ]
    },
    {
     "name": "stderr",
     "output_type": "stream",
     "text": [
      "16it [00:00, 195.13it/s]\n"
     ]
    },
    {
     "name": "stdout",
     "output_type": "stream",
     "text": [
      "Validation one-step-ahead loss: 0.035002962272200316\n",
      "Epoch 28\n"
     ]
    },
    {
     "name": "stderr",
     "output_type": "stream",
     "text": [
      "81it [00:01, 70.00it/s]\n"
     ]
    },
    {
     "name": "stdout",
     "output_type": "stream",
     "text": [
      "Training one-step-ahead loss: 0.07091545991200968\n"
     ]
    },
    {
     "name": "stderr",
     "output_type": "stream",
     "text": [
      "16it [00:00, 205.05it/s]\n"
     ]
    },
    {
     "name": "stdout",
     "output_type": "stream",
     "text": [
      "Validation one-step-ahead loss: 0.035264659155574106\n",
      "Epoch 29\n"
     ]
    },
    {
     "name": "stderr",
     "output_type": "stream",
     "text": [
      "81it [00:01, 69.53it/s]\n"
     ]
    },
    {
     "name": "stdout",
     "output_type": "stream",
     "text": [
      "Training one-step-ahead loss: 0.07255449621275128\n"
     ]
    },
    {
     "name": "stderr",
     "output_type": "stream",
     "text": [
      "16it [00:00, 205.13it/s]\n"
     ]
    },
    {
     "name": "stdout",
     "output_type": "stream",
     "text": [
      "Validation one-step-ahead loss: 0.04550289197100533\n",
      "Epoch 30\n"
     ]
    },
    {
     "name": "stderr",
     "output_type": "stream",
     "text": [
      "81it [00:01, 69.53it/s]\n"
     ]
    },
    {
     "name": "stdout",
     "output_type": "stream",
     "text": [
      "Training one-step-ahead loss: 0.07032203922669089\n"
     ]
    },
    {
     "name": "stderr",
     "output_type": "stream",
     "text": [
      "16it [00:00, 195.12it/s]\n"
     ]
    },
    {
     "name": "stdout",
     "output_type": "stream",
     "text": [
      "Validation one-step-ahead loss: 0.035341963689360344\n",
      "Epoch 31\n"
     ]
    },
    {
     "name": "stderr",
     "output_type": "stream",
     "text": [
      "81it [00:01, 70.35it/s]\n"
     ]
    },
    {
     "name": "stdout",
     "output_type": "stream",
     "text": [
      "Training one-step-ahead loss: 0.06757759050413739\n"
     ]
    },
    {
     "name": "stderr",
     "output_type": "stream",
     "text": [
      "16it [00:00, 195.13it/s]\n"
     ]
    },
    {
     "name": "stdout",
     "output_type": "stream",
     "text": [
      "Validation one-step-ahead loss: 0.0399466964105765\n",
      "Epoch 32\n"
     ]
    },
    {
     "name": "stderr",
     "output_type": "stream",
     "text": [
      "81it [00:01, 69.83it/s]\n"
     ]
    },
    {
     "name": "stdout",
     "output_type": "stream",
     "text": [
      "Training one-step-ahead loss: 0.068736682274214\n"
     ]
    },
    {
     "name": "stderr",
     "output_type": "stream",
     "text": [
      "16it [00:00, 202.44it/s]\n"
     ]
    },
    {
     "name": "stdout",
     "output_type": "stream",
     "text": [
      "Validation one-step-ahead loss: 0.04838693162633313\n",
      "Epoch 33\n"
     ]
    },
    {
     "name": "stderr",
     "output_type": "stream",
     "text": [
      "81it [00:01, 69.49it/s]\n"
     ]
    },
    {
     "name": "stdout",
     "output_type": "stream",
     "text": [
      "Training one-step-ahead loss: 0.06422030261943863\n"
     ]
    },
    {
     "name": "stderr",
     "output_type": "stream",
     "text": [
      "16it [00:00, 207.71it/s]\n"
     ]
    },
    {
     "name": "stdout",
     "output_type": "stream",
     "text": [
      "Validation one-step-ahead loss: 0.03658555975804727\n",
      "Epoch 34\n"
     ]
    },
    {
     "name": "stderr",
     "output_type": "stream",
     "text": [
      "81it [00:01, 69.58it/s]\n"
     ]
    },
    {
     "name": "stdout",
     "output_type": "stream",
     "text": [
      "Training one-step-ahead loss: 0.06913801339877812\n"
     ]
    },
    {
     "name": "stderr",
     "output_type": "stream",
     "text": [
      "16it [00:00, 190.37it/s]\n"
     ]
    },
    {
     "name": "stdout",
     "output_type": "stream",
     "text": [
      "Validation one-step-ahead loss: 0.07386952121224667\n",
      "Epoch 35\n"
     ]
    },
    {
     "name": "stderr",
     "output_type": "stream",
     "text": [
      "81it [00:01, 70.10it/s]\n"
     ]
    },
    {
     "name": "stdout",
     "output_type": "stream",
     "text": [
      "Training one-step-ahead loss: 0.07226460380543574\n"
     ]
    },
    {
     "name": "stderr",
     "output_type": "stream",
     "text": [
      "16it [00:00, 192.70it/s]\n"
     ]
    },
    {
     "name": "stdout",
     "output_type": "stream",
     "text": [
      "Validation one-step-ahead loss: 0.0351267276952664\n",
      "Epoch 36\n"
     ]
    },
    {
     "name": "stderr",
     "output_type": "stream",
     "text": [
      "81it [00:01, 68.86it/s]\n"
     ]
    },
    {
     "name": "stdout",
     "output_type": "stream",
     "text": [
      "Training one-step-ahead loss: 0.07485663349164036\n"
     ]
    },
    {
     "name": "stderr",
     "output_type": "stream",
     "text": [
      "16it [00:00, 202.54it/s]\n"
     ]
    },
    {
     "name": "stdout",
     "output_type": "stream",
     "text": [
      "Validation one-step-ahead loss: 0.032833782542083\n",
      "Epoch 37\n"
     ]
    },
    {
     "name": "stderr",
     "output_type": "stream",
     "text": [
      "81it [00:01, 70.58it/s]\n"
     ]
    },
    {
     "name": "stdout",
     "output_type": "stream",
     "text": [
      "Training one-step-ahead loss: 0.06352407572118995\n"
     ]
    },
    {
     "name": "stderr",
     "output_type": "stream",
     "text": [
      "16it [00:00, 181.83it/s]\n"
     ]
    },
    {
     "name": "stdout",
     "output_type": "stream",
     "text": [
      "Validation one-step-ahead loss: 0.04156339158200555\n",
      "Epoch 38\n"
     ]
    },
    {
     "name": "stderr",
     "output_type": "stream",
     "text": [
      "81it [00:01, 70.02it/s]\n"
     ]
    },
    {
     "name": "stdout",
     "output_type": "stream",
     "text": [
      "Training one-step-ahead loss: 0.06001894167830098\n"
     ]
    },
    {
     "name": "stderr",
     "output_type": "stream",
     "text": [
      "16it [00:00, 179.78it/s]\n"
     ]
    },
    {
     "name": "stdout",
     "output_type": "stream",
     "text": [
      "Validation one-step-ahead loss: 0.03521881542272037\n",
      "Epoch 39\n"
     ]
    },
    {
     "name": "stderr",
     "output_type": "stream",
     "text": [
      "81it [00:01, 68.31it/s]\n"
     ]
    },
    {
     "name": "stdout",
     "output_type": "stream",
     "text": [
      "Training one-step-ahead loss: 0.061061746155937666\n"
     ]
    },
    {
     "name": "stderr",
     "output_type": "stream",
     "text": [
      "16it [00:00, 202.54it/s]\n"
     ]
    },
    {
     "name": "stdout",
     "output_type": "stream",
     "text": [
      "Validation one-step-ahead loss: 0.03927356035759051\n",
      "Epoch 40\n"
     ]
    },
    {
     "name": "stderr",
     "output_type": "stream",
     "text": [
      "81it [00:01, 70.52it/s]\n"
     ]
    },
    {
     "name": "stdout",
     "output_type": "stream",
     "text": [
      "Training one-step-ahead loss: 0.06030354798044524\n"
     ]
    },
    {
     "name": "stderr",
     "output_type": "stream",
     "text": [
      "16it [00:00, 195.14it/s]\n"
     ]
    },
    {
     "name": "stdout",
     "output_type": "stream",
     "text": [
      "Validation one-step-ahead loss: 0.038466549892392427\n",
      "Epoch 41\n"
     ]
    },
    {
     "name": "stderr",
     "output_type": "stream",
     "text": [
      "81it [00:01, 69.83it/s]\n"
     ]
    },
    {
     "name": "stdout",
     "output_type": "stream",
     "text": [
      "Training one-step-ahead loss: 0.060834546986103674\n"
     ]
    },
    {
     "name": "stderr",
     "output_type": "stream",
     "text": [
      "16it [00:00, 192.91it/s]\n"
     ]
    },
    {
     "name": "stdout",
     "output_type": "stream",
     "text": [
      "Validation one-step-ahead loss: 0.03478104165858692\n",
      "Epoch 42\n"
     ]
    },
    {
     "name": "stderr",
     "output_type": "stream",
     "text": [
      "81it [00:01, 69.44it/s]\n"
     ]
    },
    {
     "name": "stdout",
     "output_type": "stream",
     "text": [
      "Training one-step-ahead loss: 0.05968782428360771\n"
     ]
    },
    {
     "name": "stderr",
     "output_type": "stream",
     "text": [
      "16it [00:00, 195.13it/s]\n"
     ]
    },
    {
     "name": "stdout",
     "output_type": "stream",
     "text": [
      "Validation one-step-ahead loss: 0.043672235061724976\n",
      "Epoch 43\n"
     ]
    },
    {
     "name": "stderr",
     "output_type": "stream",
     "text": [
      "81it [00:01, 69.95it/s]\n"
     ]
    },
    {
     "name": "stdout",
     "output_type": "stream",
     "text": [
      "Training one-step-ahead loss: 0.062076232029413814\n"
     ]
    },
    {
     "name": "stderr",
     "output_type": "stream",
     "text": [
      "16it [00:00, 197.47it/s]\n"
     ]
    },
    {
     "name": "stdout",
     "output_type": "stream",
     "text": [
      "Validation one-step-ahead loss: 0.03828408631185691\n",
      "Epoch 44\n"
     ]
    },
    {
     "name": "stderr",
     "output_type": "stream",
     "text": [
      "81it [00:01, 70.18it/s]\n"
     ]
    },
    {
     "name": "stdout",
     "output_type": "stream",
     "text": [
      "Training one-step-ahead loss: 0.0577746901165474\n"
     ]
    },
    {
     "name": "stderr",
     "output_type": "stream",
     "text": [
      "16it [00:00, 207.70it/s]\n"
     ]
    },
    {
     "name": "stdout",
     "output_type": "stream",
     "text": [
      "Validation one-step-ahead loss: 0.04645661502662632\n",
      "Epoch 45\n"
     ]
    },
    {
     "name": "stderr",
     "output_type": "stream",
     "text": [
      "81it [00:01, 69.95it/s]\n"
     ]
    },
    {
     "name": "stdout",
     "output_type": "stream",
     "text": [
      "Training one-step-ahead loss: 0.05443438927966218\n"
     ]
    },
    {
     "name": "stderr",
     "output_type": "stream",
     "text": [
      "16it [00:00, 181.82it/s]\n"
     ]
    },
    {
     "name": "stdout",
     "output_type": "stream",
     "text": [
      "Validation one-step-ahead loss: 0.03304684545016951\n",
      "Epoch 46\n"
     ]
    },
    {
     "name": "stderr",
     "output_type": "stream",
     "text": [
      "81it [00:01, 68.38it/s]\n"
     ]
    },
    {
     "name": "stdout",
     "output_type": "stream",
     "text": [
      "Training one-step-ahead loss: 0.05415292497116189\n"
     ]
    },
    {
     "name": "stderr",
     "output_type": "stream",
     "text": [
      "16it [00:00, 188.24it/s]\n"
     ]
    },
    {
     "name": "stdout",
     "output_type": "stream",
     "text": [
      "Validation one-step-ahead loss: 0.02981457781667511\n",
      "Epoch 47\n"
     ]
    },
    {
     "name": "stderr",
     "output_type": "stream",
     "text": [
      "81it [00:01, 67.90it/s]\n"
     ]
    },
    {
     "name": "stdout",
     "output_type": "stream",
     "text": [
      "Training one-step-ahead loss: 0.052269385322744465\n"
     ]
    },
    {
     "name": "stderr",
     "output_type": "stream",
     "text": [
      "16it [00:00, 173.91it/s]\n"
     ]
    },
    {
     "name": "stdout",
     "output_type": "stream",
     "text": [
      "Validation one-step-ahead loss: 0.03100454351968235\n",
      "Epoch 48\n"
     ]
    },
    {
     "name": "stderr",
     "output_type": "stream",
     "text": [
      "81it [00:01, 66.43it/s]\n"
     ]
    },
    {
     "name": "stdout",
     "output_type": "stream",
     "text": [
      "Training one-step-ahead loss: 0.05219548598279351\n"
     ]
    },
    {
     "name": "stderr",
     "output_type": "stream",
     "text": [
      "16it [00:00, 197.41it/s]\n"
     ]
    },
    {
     "name": "stdout",
     "output_type": "stream",
     "text": [
      "Validation one-step-ahead loss: 0.035366016336613224\n",
      "Epoch 49\n"
     ]
    },
    {
     "name": "stderr",
     "output_type": "stream",
     "text": [
      "81it [00:01, 64.90it/s]\n"
     ]
    },
    {
     "name": "stdout",
     "output_type": "stream",
     "text": [
      "Training one-step-ahead loss: 0.054590700360319114\n"
     ]
    },
    {
     "name": "stderr",
     "output_type": "stream",
     "text": [
      "16it [00:00, 161.56it/s]\n"
     ]
    },
    {
     "name": "stdout",
     "output_type": "stream",
     "text": [
      "Validation one-step-ahead loss: 0.030755341466930177\n",
      "Epoch 50\n"
     ]
    },
    {
     "name": "stderr",
     "output_type": "stream",
     "text": [
      "81it [00:01, 68.47it/s]\n"
     ]
    },
    {
     "name": "stdout",
     "output_type": "stream",
     "text": [
      "Training one-step-ahead loss: 0.05257647021562474\n"
     ]
    },
    {
     "name": "stderr",
     "output_type": "stream",
     "text": [
      "16it [00:00, 207.71it/s]\n"
     ]
    },
    {
     "name": "stdout",
     "output_type": "stream",
     "text": [
      "Validation one-step-ahead loss: 0.04855040191776223\n",
      "Epoch 51\n"
     ]
    },
    {
     "name": "stderr",
     "output_type": "stream",
     "text": [
      "81it [00:01, 70.61it/s]\n"
     ]
    },
    {
     "name": "stdout",
     "output_type": "stream",
     "text": [
      "Training one-step-ahead loss: 0.052596151317752096\n"
     ]
    },
    {
     "name": "stderr",
     "output_type": "stream",
     "text": [
      "16it [00:00, 190.42it/s]\n"
     ]
    },
    {
     "name": "stdout",
     "output_type": "stream",
     "text": [
      "Validation one-step-ahead loss: 0.033772050713499396\n",
      "Epoch 52\n"
     ]
    },
    {
     "name": "stderr",
     "output_type": "stream",
     "text": [
      "81it [00:01, 69.13it/s]\n"
     ]
    },
    {
     "name": "stdout",
     "output_type": "stream",
     "text": [
      "Training one-step-ahead loss: 0.051432176422843874\n"
     ]
    },
    {
     "name": "stderr",
     "output_type": "stream",
     "text": [
      "16it [00:00, 205.13it/s]\n"
     ]
    },
    {
     "name": "stdout",
     "output_type": "stream",
     "text": [
      "Validation one-step-ahead loss: 0.029350348644786407\n",
      "Epoch 53\n"
     ]
    },
    {
     "name": "stderr",
     "output_type": "stream",
     "text": [
      "81it [00:01, 68.41it/s]\n"
     ]
    },
    {
     "name": "stdout",
     "output_type": "stream",
     "text": [
      "Training one-step-ahead loss: 0.04936633243727585\n"
     ]
    },
    {
     "name": "stderr",
     "output_type": "stream",
     "text": [
      "16it [00:00, 190.48it/s]\n"
     ]
    },
    {
     "name": "stdout",
     "output_type": "stream",
     "text": [
      "Validation one-step-ahead loss: 0.03648267075833347\n",
      "Epoch 54\n"
     ]
    },
    {
     "name": "stderr",
     "output_type": "stream",
     "text": [
      "81it [00:01, 68.74it/s]\n"
     ]
    },
    {
     "name": "stdout",
     "output_type": "stream",
     "text": [
      "Training one-step-ahead loss: 0.050947111984012236\n"
     ]
    },
    {
     "name": "stderr",
     "output_type": "stream",
     "text": [
      "16it [00:00, 174.00it/s]\n"
     ]
    },
    {
     "name": "stdout",
     "output_type": "stream",
     "text": [
      "Validation one-step-ahead loss: 0.03301217024111085\n",
      "Epoch 55\n"
     ]
    },
    {
     "name": "stderr",
     "output_type": "stream",
     "text": [
      "81it [00:01, 69.77it/s]\n"
     ]
    },
    {
     "name": "stdout",
     "output_type": "stream",
     "text": [
      "Training one-step-ahead loss: 0.05174086152975777\n"
     ]
    },
    {
     "name": "stderr",
     "output_type": "stream",
     "text": [
      "16it [00:00, 210.45it/s]\n"
     ]
    },
    {
     "name": "stdout",
     "output_type": "stream",
     "text": [
      "Validation one-step-ahead loss: 0.03364608147078091\n",
      "Epoch 56\n"
     ]
    },
    {
     "name": "stderr",
     "output_type": "stream",
     "text": [
      "81it [00:01, 70.31it/s]\n"
     ]
    },
    {
     "name": "stdout",
     "output_type": "stream",
     "text": [
      "Training one-step-ahead loss: 0.04813397366078303\n"
     ]
    },
    {
     "name": "stderr",
     "output_type": "stream",
     "text": [
      "16it [00:00, 192.78it/s]\n"
     ]
    },
    {
     "name": "stdout",
     "output_type": "stream",
     "text": [
      "Validation one-step-ahead loss: 0.03131026505596108\n",
      "Epoch 57\n"
     ]
    },
    {
     "name": "stderr",
     "output_type": "stream",
     "text": [
      "81it [00:01, 70.12it/s]\n"
     ]
    },
    {
     "name": "stdout",
     "output_type": "stream",
     "text": [
      "Training one-step-ahead loss: 0.0499899771846371\n"
     ]
    },
    {
     "name": "stderr",
     "output_type": "stream",
     "text": [
      "16it [00:00, 207.59it/s]\n"
     ]
    },
    {
     "name": "stdout",
     "output_type": "stream",
     "text": [
      "Validation one-step-ahead loss: 0.032589271250698305\n",
      "Epoch 58\n"
     ]
    },
    {
     "name": "stderr",
     "output_type": "stream",
     "text": [
      "81it [00:01, 70.62it/s]\n"
     ]
    },
    {
     "name": "stdout",
     "output_type": "stream",
     "text": [
      "Training one-step-ahead loss: 0.04607965592780395\n"
     ]
    },
    {
     "name": "stderr",
     "output_type": "stream",
     "text": [
      "16it [00:00, 190.48it/s]\n"
     ]
    },
    {
     "name": "stdout",
     "output_type": "stream",
     "text": [
      "Validation one-step-ahead loss: 0.03423974952763982\n",
      "Epoch 59\n"
     ]
    },
    {
     "name": "stderr",
     "output_type": "stream",
     "text": [
      "81it [00:01, 67.95it/s]\n"
     ]
    },
    {
     "name": "stdout",
     "output_type": "stream",
     "text": [
      "Training one-step-ahead loss: 0.04788650122607851\n"
     ]
    },
    {
     "name": "stderr",
     "output_type": "stream",
     "text": [
      "16it [00:00, 173.92it/s]\n"
     ]
    },
    {
     "name": "stdout",
     "output_type": "stream",
     "text": [
      "Validation one-step-ahead loss: 0.03185190457022852\n",
      "Epoch 60\n"
     ]
    },
    {
     "name": "stderr",
     "output_type": "stream",
     "text": [
      "81it [00:01, 69.92it/s]\n"
     ]
    },
    {
     "name": "stdout",
     "output_type": "stream",
     "text": [
      "Training one-step-ahead loss: 0.04699567094220384\n"
     ]
    },
    {
     "name": "stderr",
     "output_type": "stream",
     "text": [
      "16it [00:00, 175.83it/s]\n"
     ]
    },
    {
     "name": "stdout",
     "output_type": "stream",
     "text": [
      "Validation one-step-ahead loss: 0.03879482883753048\n",
      "Epoch 61\n"
     ]
    },
    {
     "name": "stderr",
     "output_type": "stream",
     "text": [
      "81it [00:01, 68.76it/s]\n"
     ]
    },
    {
     "name": "stdout",
     "output_type": "stream",
     "text": [
      "Training one-step-ahead loss: 0.047326953792931774\n"
     ]
    },
    {
     "name": "stderr",
     "output_type": "stream",
     "text": [
      "16it [00:00, 188.32it/s]\n"
     ]
    },
    {
     "name": "stdout",
     "output_type": "stream",
     "text": [
      "Validation one-step-ahead loss: 0.029657183939384088\n",
      "Epoch 62\n"
     ]
    },
    {
     "name": "stderr",
     "output_type": "stream",
     "text": [
      "81it [00:01, 69.09it/s]\n"
     ]
    },
    {
     "name": "stdout",
     "output_type": "stream",
     "text": [
      "Training one-step-ahead loss: 0.04968395271173721\n"
     ]
    },
    {
     "name": "stderr",
     "output_type": "stream",
     "text": [
      "16it [00:00, 202.53it/s]\n"
     ]
    },
    {
     "name": "stdout",
     "output_type": "stream",
     "text": [
      "Validation one-step-ahead loss: 0.03813529863125748\n",
      "Epoch 63\n"
     ]
    },
    {
     "name": "stderr",
     "output_type": "stream",
     "text": [
      "81it [00:01, 68.56it/s]\n"
     ]
    },
    {
     "name": "stdout",
     "output_type": "stream",
     "text": [
      "Training one-step-ahead loss: 0.04513041180429471\n"
     ]
    },
    {
     "name": "stderr",
     "output_type": "stream",
     "text": [
      "16it [00:00, 163.27it/s]\n"
     ]
    },
    {
     "name": "stdout",
     "output_type": "stream",
     "text": [
      "Validation one-step-ahead loss: 0.029643545030719705\n",
      "Epoch 64\n"
     ]
    },
    {
     "name": "stderr",
     "output_type": "stream",
     "text": [
      "81it [00:01, 69.84it/s]\n"
     ]
    },
    {
     "name": "stdout",
     "output_type": "stream",
     "text": [
      "Training one-step-ahead loss: 0.04656479168116066\n"
     ]
    },
    {
     "name": "stderr",
     "output_type": "stream",
     "text": [
      "16it [00:00, 190.48it/s]\n"
     ]
    },
    {
     "name": "stdout",
     "output_type": "stream",
     "text": [
      "Validation one-step-ahead loss: 0.029786177186502352\n",
      "Epoch 65\n"
     ]
    },
    {
     "name": "stderr",
     "output_type": "stream",
     "text": [
      "81it [00:01, 69.17it/s]\n"
     ]
    },
    {
     "name": "stdout",
     "output_type": "stream",
     "text": [
      "Training one-step-ahead loss: 0.04698552662412164\n"
     ]
    },
    {
     "name": "stderr",
     "output_type": "stream",
     "text": [
      "16it [00:00, 207.80it/s]\n"
     ]
    },
    {
     "name": "stdout",
     "output_type": "stream",
     "text": [
      "Validation one-step-ahead loss: 0.02859414513740275\n",
      "Epoch 66\n"
     ]
    },
    {
     "name": "stderr",
     "output_type": "stream",
     "text": [
      "81it [00:01, 68.70it/s]\n"
     ]
    },
    {
     "name": "stdout",
     "output_type": "stream",
     "text": [
      "Training one-step-ahead loss: 0.044886630851218405\n"
     ]
    },
    {
     "name": "stderr",
     "output_type": "stream",
     "text": [
      "16it [00:00, 200.03it/s]\n"
     ]
    },
    {
     "name": "stdout",
     "output_type": "stream",
     "text": [
      "Validation one-step-ahead loss: 0.03699695153368844\n",
      "Epoch 67\n"
     ]
    },
    {
     "name": "stderr",
     "output_type": "stream",
     "text": [
      "81it [00:01, 69.99it/s]\n"
     ]
    },
    {
     "name": "stdout",
     "output_type": "stream",
     "text": [
      "Training one-step-ahead loss: 0.04524231085295704\n"
     ]
    },
    {
     "name": "stderr",
     "output_type": "stream",
     "text": [
      "16it [00:00, 205.05it/s]\n"
     ]
    },
    {
     "name": "stdout",
     "output_type": "stream",
     "text": [
      "Validation one-step-ahead loss: 0.03628969151112768\n",
      "Epoch 68\n"
     ]
    },
    {
     "name": "stderr",
     "output_type": "stream",
     "text": [
      "81it [00:01, 70.05it/s]\n"
     ]
    },
    {
     "name": "stdout",
     "output_type": "stream",
     "text": [
      "Training one-step-ahead loss: 0.04318573666207585\n"
     ]
    },
    {
     "name": "stderr",
     "output_type": "stream",
     "text": [
      "16it [00:00, 205.20it/s]\n"
     ]
    },
    {
     "name": "stdout",
     "output_type": "stream",
     "text": [
      "Validation one-step-ahead loss: 0.030827815954883892\n",
      "Epoch 69\n"
     ]
    },
    {
     "name": "stderr",
     "output_type": "stream",
     "text": [
      "81it [00:01, 68.73it/s]\n"
     ]
    },
    {
     "name": "stdout",
     "output_type": "stream",
     "text": [
      "Training one-step-ahead loss: 0.04632891003241755\n"
     ]
    },
    {
     "name": "stderr",
     "output_type": "stream",
     "text": [
      "16it [00:00, 186.05it/s]\n"
     ]
    },
    {
     "name": "stdout",
     "output_type": "stream",
     "text": [
      "Validation one-step-ahead loss: 0.032555085399912455\n",
      "Epoch 70\n"
     ]
    },
    {
     "name": "stderr",
     "output_type": "stream",
     "text": [
      "81it [00:01, 69.18it/s]\n"
     ]
    },
    {
     "name": "stdout",
     "output_type": "stream",
     "text": [
      "Training one-step-ahead loss: 0.044206336523892956\n"
     ]
    },
    {
     "name": "stderr",
     "output_type": "stream",
     "text": [
      "16it [00:00, 213.33it/s]\n"
     ]
    },
    {
     "name": "stdout",
     "output_type": "stream",
     "text": [
      "Validation one-step-ahead loss: 0.028628488692144557\n",
      "Epoch 71\n"
     ]
    },
    {
     "name": "stderr",
     "output_type": "stream",
     "text": [
      "81it [00:01, 70.05it/s]\n"
     ]
    },
    {
     "name": "stdout",
     "output_type": "stream",
     "text": [
      "Training one-step-ahead loss: 0.04214177743642909\n"
     ]
    },
    {
     "name": "stderr",
     "output_type": "stream",
     "text": [
      "16it [00:00, 207.78it/s]\n"
     ]
    },
    {
     "name": "stdout",
     "output_type": "stream",
     "text": [
      "Validation one-step-ahead loss: 0.02784057199541065\n",
      "Epoch 72\n"
     ]
    },
    {
     "name": "stderr",
     "output_type": "stream",
     "text": [
      "81it [00:01, 68.90it/s]\n"
     ]
    },
    {
     "name": "stdout",
     "output_type": "stream",
     "text": [
      "Training one-step-ahead loss: 0.045510255382875335\n"
     ]
    },
    {
     "name": "stderr",
     "output_type": "stream",
     "text": [
      "16it [00:00, 199.98it/s]\n"
     ]
    },
    {
     "name": "stdout",
     "output_type": "stream",
     "text": [
      "Validation one-step-ahead loss: 0.03347853322823842\n",
      "Epoch 73\n"
     ]
    },
    {
     "name": "stderr",
     "output_type": "stream",
     "text": [
      "81it [00:01, 70.11it/s]\n"
     ]
    },
    {
     "name": "stdout",
     "output_type": "stream",
     "text": [
      "Training one-step-ahead loss: 0.04277079379689382\n"
     ]
    },
    {
     "name": "stderr",
     "output_type": "stream",
     "text": [
      "16it [00:00, 207.80it/s]\n"
     ]
    },
    {
     "name": "stdout",
     "output_type": "stream",
     "text": [
      "Validation one-step-ahead loss: 0.0368352865593301\n",
      "Epoch 74\n"
     ]
    },
    {
     "name": "stderr",
     "output_type": "stream",
     "text": [
      "81it [00:01, 67.90it/s]\n"
     ]
    },
    {
     "name": "stdout",
     "output_type": "stream",
     "text": [
      "Training one-step-ahead loss: 0.041604501086661506\n"
     ]
    },
    {
     "name": "stderr",
     "output_type": "stream",
     "text": [
      "16it [00:00, 192.79it/s]\n"
     ]
    },
    {
     "name": "stdout",
     "output_type": "stream",
     "text": [
      "Validation one-step-ahead loss: 0.026817709414495364\n",
      "Epoch 75\n"
     ]
    },
    {
     "name": "stderr",
     "output_type": "stream",
     "text": [
      "81it [00:01, 68.70it/s]\n"
     ]
    },
    {
     "name": "stdout",
     "output_type": "stream",
     "text": [
      "Training one-step-ahead loss: 0.04099206323639601\n"
     ]
    },
    {
     "name": "stderr",
     "output_type": "stream",
     "text": [
      "16it [00:00, 205.13it/s]\n"
     ]
    },
    {
     "name": "stdout",
     "output_type": "stream",
     "text": [
      "Validation one-step-ahead loss: 0.029357438389625814\n",
      "Epoch 76\n"
     ]
    },
    {
     "name": "stderr",
     "output_type": "stream",
     "text": [
      "81it [00:01, 69.59it/s]\n"
     ]
    },
    {
     "name": "stdout",
     "output_type": "stream",
     "text": [
      "Training one-step-ahead loss: 0.041629792907784985\n"
     ]
    },
    {
     "name": "stderr",
     "output_type": "stream",
     "text": [
      "16it [00:00, 181.75it/s]\n"
     ]
    },
    {
     "name": "stdout",
     "output_type": "stream",
     "text": [
      "Validation one-step-ahead loss: 0.030881076430281002\n",
      "Epoch 77\n"
     ]
    },
    {
     "name": "stderr",
     "output_type": "stream",
     "text": [
      "81it [00:01, 69.80it/s]\n"
     ]
    },
    {
     "name": "stdout",
     "output_type": "stream",
     "text": [
      "Training one-step-ahead loss: 0.041946609835402306\n"
     ]
    },
    {
     "name": "stderr",
     "output_type": "stream",
     "text": [
      "16it [00:00, 197.54it/s]\n"
     ]
    },
    {
     "name": "stdout",
     "output_type": "stream",
     "text": [
      "Validation one-step-ahead loss: 0.030042661250465445\n",
      "Epoch 78\n"
     ]
    },
    {
     "name": "stderr",
     "output_type": "stream",
     "text": [
      "81it [00:01, 69.93it/s]\n"
     ]
    },
    {
     "name": "stdout",
     "output_type": "stream",
     "text": [
      "Training one-step-ahead loss: 0.04076729288173964\n"
     ]
    },
    {
     "name": "stderr",
     "output_type": "stream",
     "text": [
      "16it [00:00, 188.24it/s]\n"
     ]
    },
    {
     "name": "stdout",
     "output_type": "stream",
     "text": [
      "Validation one-step-ahead loss: 0.030630978134771183\n",
      "Epoch 79\n"
     ]
    },
    {
     "name": "stderr",
     "output_type": "stream",
     "text": [
      "81it [00:01, 69.85it/s]\n"
     ]
    },
    {
     "name": "stdout",
     "output_type": "stream",
     "text": [
      "Training one-step-ahead loss: 0.04103009820761179\n"
     ]
    },
    {
     "name": "stderr",
     "output_type": "stream",
     "text": [
      "16it [00:00, 181.82it/s]\n"
     ]
    },
    {
     "name": "stdout",
     "output_type": "stream",
     "text": [
      "Validation one-step-ahead loss: 0.02811822802242306\n",
      "Epoch 80\n"
     ]
    },
    {
     "name": "stderr",
     "output_type": "stream",
     "text": [
      "81it [00:01, 70.01it/s]\n"
     ]
    },
    {
     "name": "stdout",
     "output_type": "stream",
     "text": [
      "Training one-step-ahead loss: 0.04157439150192118\n"
     ]
    },
    {
     "name": "stderr",
     "output_type": "stream",
     "text": [
      "16it [00:00, 205.13it/s]\n"
     ]
    },
    {
     "name": "stdout",
     "output_type": "stream",
     "text": [
      "Validation one-step-ahead loss: 0.02747614826593135\n",
      "Epoch 81\n"
     ]
    },
    {
     "name": "stderr",
     "output_type": "stream",
     "text": [
      "81it [00:01, 69.36it/s]\n"
     ]
    },
    {
     "name": "stdout",
     "output_type": "stream",
     "text": [
      "Training one-step-ahead loss: 0.03953068154584232\n"
     ]
    },
    {
     "name": "stderr",
     "output_type": "stream",
     "text": [
      "16it [00:00, 177.79it/s]\n"
     ]
    },
    {
     "name": "stdout",
     "output_type": "stream",
     "text": [
      "Validation one-step-ahead loss: 0.029826846180690657\n",
      "Epoch 82\n"
     ]
    },
    {
     "name": "stderr",
     "output_type": "stream",
     "text": [
      "81it [00:01, 69.49it/s]\n"
     ]
    },
    {
     "name": "stdout",
     "output_type": "stream",
     "text": [
      "Training one-step-ahead loss: 0.03977669337036189\n"
     ]
    },
    {
     "name": "stderr",
     "output_type": "stream",
     "text": [
      "16it [00:00, 200.00it/s]\n"
     ]
    },
    {
     "name": "stdout",
     "output_type": "stream",
     "text": [
      "Validation one-step-ahead loss: 0.029805637740840513\n",
      "Epoch 83\n"
     ]
    },
    {
     "name": "stderr",
     "output_type": "stream",
     "text": [
      "81it [00:01, 69.99it/s]\n"
     ]
    },
    {
     "name": "stdout",
     "output_type": "stream",
     "text": [
      "Training one-step-ahead loss: 0.039285839278511564\n"
     ]
    },
    {
     "name": "stderr",
     "output_type": "stream",
     "text": [
      "16it [00:00, 197.45it/s]\n"
     ]
    },
    {
     "name": "stdout",
     "output_type": "stream",
     "text": [
      "Validation one-step-ahead loss: 0.02948514196193881\n",
      "Epoch 84\n"
     ]
    },
    {
     "name": "stderr",
     "output_type": "stream",
     "text": [
      "81it [00:01, 67.41it/s]\n"
     ]
    },
    {
     "name": "stdout",
     "output_type": "stream",
     "text": [
      "Training one-step-ahead loss: 0.040071194988914295\n"
     ]
    },
    {
     "name": "stderr",
     "output_type": "stream",
     "text": [
      "16it [00:00, 188.24it/s]\n"
     ]
    },
    {
     "name": "stdout",
     "output_type": "stream",
     "text": [
      "Validation one-step-ahead loss: 0.028153948071930147\n",
      "Epoch 85\n"
     ]
    },
    {
     "name": "stderr",
     "output_type": "stream",
     "text": [
      "81it [00:01, 69.35it/s]\n"
     ]
    },
    {
     "name": "stdout",
     "output_type": "stream",
     "text": [
      "Training one-step-ahead loss: 0.041418945598218\n"
     ]
    },
    {
     "name": "stderr",
     "output_type": "stream",
     "text": [
      "16it [00:00, 205.07it/s]\n"
     ]
    },
    {
     "name": "stdout",
     "output_type": "stream",
     "text": [
      "Validation one-step-ahead loss: 0.028001425787806507\n",
      "Epoch 86\n"
     ]
    },
    {
     "name": "stderr",
     "output_type": "stream",
     "text": [
      "81it [00:01, 69.54it/s]\n"
     ]
    },
    {
     "name": "stdout",
     "output_type": "stream",
     "text": [
      "Training one-step-ahead loss: 0.03917275236814766\n"
     ]
    },
    {
     "name": "stderr",
     "output_type": "stream",
     "text": [
      "16it [00:00, 202.57it/s]\n"
     ]
    },
    {
     "name": "stdout",
     "output_type": "stream",
     "text": [
      "Validation one-step-ahead loss: 0.02825716717375649\n",
      "Epoch 87\n"
     ]
    },
    {
     "name": "stderr",
     "output_type": "stream",
     "text": [
      "81it [00:01, 68.60it/s]\n"
     ]
    },
    {
     "name": "stdout",
     "output_type": "stream",
     "text": [
      "Training one-step-ahead loss: 0.03808768814115367\n"
     ]
    },
    {
     "name": "stderr",
     "output_type": "stream",
     "text": [
      "16it [00:00, 173.85it/s]\n"
     ]
    },
    {
     "name": "stdout",
     "output_type": "stream",
     "text": [
      "Validation one-step-ahead loss: 0.02947845465193192\n",
      "Epoch 88\n"
     ]
    },
    {
     "name": "stderr",
     "output_type": "stream",
     "text": [
      "81it [00:01, 69.54it/s]\n"
     ]
    },
    {
     "name": "stdout",
     "output_type": "stream",
     "text": [
      "Training one-step-ahead loss: 0.04005443806592655\n"
     ]
    },
    {
     "name": "stderr",
     "output_type": "stream",
     "text": [
      "16it [00:00, 183.92it/s]\n"
     ]
    },
    {
     "name": "stdout",
     "output_type": "stream",
     "text": [
      "Validation one-step-ahead loss: 0.029495007255011134\n",
      "Epoch 89\n"
     ]
    },
    {
     "name": "stderr",
     "output_type": "stream",
     "text": [
      "81it [00:01, 70.35it/s]\n"
     ]
    },
    {
     "name": "stdout",
     "output_type": "stream",
     "text": [
      "Training one-step-ahead loss: 0.039855116188771446\n"
     ]
    },
    {
     "name": "stderr",
     "output_type": "stream",
     "text": [
      "16it [00:00, 190.48it/s]\n"
     ]
    },
    {
     "name": "stdout",
     "output_type": "stream",
     "text": [
      "Validation one-step-ahead loss: 0.02614847632745902\n",
      "Epoch 90\n"
     ]
    },
    {
     "name": "stderr",
     "output_type": "stream",
     "text": [
      "81it [00:01, 68.91it/s]\n"
     ]
    },
    {
     "name": "stdout",
     "output_type": "stream",
     "text": [
      "Training one-step-ahead loss: 0.039074132313494485\n"
     ]
    },
    {
     "name": "stderr",
     "output_type": "stream",
     "text": [
      "16it [00:00, 192.88it/s]\n"
     ]
    },
    {
     "name": "stdout",
     "output_type": "stream",
     "text": [
      "Validation one-step-ahead loss: 0.028775363539656002\n",
      "Epoch 91\n"
     ]
    },
    {
     "name": "stderr",
     "output_type": "stream",
     "text": [
      "81it [00:01, 70.15it/s]\n"
     ]
    },
    {
     "name": "stdout",
     "output_type": "stream",
     "text": [
      "Training one-step-ahead loss: 0.037861960839137766\n"
     ]
    },
    {
     "name": "stderr",
     "output_type": "stream",
     "text": [
      "16it [00:00, 197.44it/s]\n"
     ]
    },
    {
     "name": "stdout",
     "output_type": "stream",
     "text": [
      "Validation one-step-ahead loss: 0.02647439452509085\n",
      "Epoch 92\n"
     ]
    },
    {
     "name": "stderr",
     "output_type": "stream",
     "text": [
      "81it [00:01, 70.24it/s]\n"
     ]
    },
    {
     "name": "stdout",
     "output_type": "stream",
     "text": [
      "Training one-step-ahead loss: 0.03798864961988886\n"
     ]
    },
    {
     "name": "stderr",
     "output_type": "stream",
     "text": [
      "16it [00:00, 190.41it/s]\n"
     ]
    },
    {
     "name": "stdout",
     "output_type": "stream",
     "text": [
      "Validation one-step-ahead loss: 0.03291131607774231\n",
      "Epoch 93\n"
     ]
    },
    {
     "name": "stderr",
     "output_type": "stream",
     "text": [
      "81it [00:01, 69.37it/s]\n"
     ]
    },
    {
     "name": "stdout",
     "output_type": "stream",
     "text": [
      "Training one-step-ahead loss: 0.03845147184506365\n"
     ]
    },
    {
     "name": "stderr",
     "output_type": "stream",
     "text": [
      "16it [00:00, 205.05it/s]\n"
     ]
    },
    {
     "name": "stdout",
     "output_type": "stream",
     "text": [
      "Validation one-step-ahead loss: 0.029091310790843428\n",
      "Epoch 94\n"
     ]
    },
    {
     "name": "stderr",
     "output_type": "stream",
     "text": [
      "81it [00:01, 69.84it/s]\n"
     ]
    },
    {
     "name": "stdout",
     "output_type": "stream",
     "text": [
      "Training one-step-ahead loss: 0.037101080071370134\n"
     ]
    },
    {
     "name": "stderr",
     "output_type": "stream",
     "text": [
      "16it [00:00, 205.13it/s]\n"
     ]
    },
    {
     "name": "stdout",
     "output_type": "stream",
     "text": [
      "Validation one-step-ahead loss: 0.031162020129462082\n",
      "Epoch 95\n"
     ]
    },
    {
     "name": "stderr",
     "output_type": "stream",
     "text": [
      "81it [00:01, 69.17it/s]\n"
     ]
    },
    {
     "name": "stdout",
     "output_type": "stream",
     "text": [
      "Training one-step-ahead loss: 0.040366254195019026\n"
     ]
    },
    {
     "name": "stderr",
     "output_type": "stream",
     "text": [
      "16it [00:00, 205.09it/s]\n"
     ]
    },
    {
     "name": "stdout",
     "output_type": "stream",
     "text": [
      "Validation one-step-ahead loss: 0.03025852267940839\n",
      "Epoch 96\n"
     ]
    },
    {
     "name": "stderr",
     "output_type": "stream",
     "text": [
      "81it [00:01, 69.56it/s]\n"
     ]
    },
    {
     "name": "stdout",
     "output_type": "stream",
     "text": [
      "Training one-step-ahead loss: 0.03975477499889902\n"
     ]
    },
    {
     "name": "stderr",
     "output_type": "stream",
     "text": [
      "16it [00:00, 192.78it/s]\n"
     ]
    },
    {
     "name": "stdout",
     "output_type": "stream",
     "text": [
      "Validation one-step-ahead loss: 0.02852464084410005\n",
      "Epoch 97\n"
     ]
    },
    {
     "name": "stderr",
     "output_type": "stream",
     "text": [
      "81it [00:01, 70.08it/s]\n"
     ]
    },
    {
     "name": "stdout",
     "output_type": "stream",
     "text": [
      "Training one-step-ahead loss: 0.03801443242814152\n"
     ]
    },
    {
     "name": "stderr",
     "output_type": "stream",
     "text": [
      "16it [00:00, 213.34it/s]\n"
     ]
    },
    {
     "name": "stdout",
     "output_type": "stream",
     "text": [
      "Validation one-step-ahead loss: 0.028844822715553976\n",
      "Epoch 98\n"
     ]
    },
    {
     "name": "stderr",
     "output_type": "stream",
     "text": [
      "81it [00:01, 70.92it/s]\n"
     ]
    },
    {
     "name": "stdout",
     "output_type": "stream",
     "text": [
      "Training one-step-ahead loss: 0.036546549676765475\n"
     ]
    },
    {
     "name": "stderr",
     "output_type": "stream",
     "text": [
      "16it [00:00, 202.53it/s]\n"
     ]
    },
    {
     "name": "stdout",
     "output_type": "stream",
     "text": [
      "Validation one-step-ahead loss: 0.027096884842548106\n",
      "Epoch 99\n"
     ]
    },
    {
     "name": "stderr",
     "output_type": "stream",
     "text": [
      "81it [00:01, 70.27it/s]\n"
     ]
    },
    {
     "name": "stdout",
     "output_type": "stream",
     "text": [
      "Training one-step-ahead loss: 0.03726333085657065\n"
     ]
    },
    {
     "name": "stderr",
     "output_type": "stream",
     "text": [
      "16it [00:00, 205.02it/s]"
     ]
    },
    {
     "name": "stdout",
     "output_type": "stream",
     "text": [
      "Validation one-step-ahead loss: 0.026291349074906767\n"
     ]
    },
    {
     "name": "stderr",
     "output_type": "stream",
     "text": [
      "\n"
     ]
    }
   ],
   "source": [
    "loss_history = training_loop(\n",
    "    train_dataloader,\n",
    "    test_dataloader,\n",
    "    static_encoder, \n",
    "    sequence_encoder, \n",
    "    decoder,\n",
    "    static_encoder_optimizer,\n",
    "    sequence_encoder_optimizer, \n",
    "    decoder_optimizer, \n",
    "    loss_fn,    \n",
    "    n_epochs=n_epochs, \n",
    "    teacher_forcing_ratio=0.25, \n",
    "    teacher_forcing_gamma=0.95\n",
    ")"
   ]
  },
  {
   "cell_type": "code",
   "execution_count": 30,
   "id": "71b56ed7-d680-4909-8702-a984b97b7ff9",
   "metadata": {
    "tags": []
   },
   "outputs": [
    {
     "data": {
      "text/plain": [
       "<AxesSubplot:xlabel='epoch', ylabel='value'>"
      ]
     },
     "execution_count": 30,
     "metadata": {},
     "output_type": "execute_result"
    },
    {
     "data": {
      "image/png": "[encoded data removed]",
      "text/plain": [
       "<Figure size 432x288 with 1 Axes>"
      ]
     },
     "metadata": {
      "needs_background": "light"
     },
     "output_type": "display_data"
    }
   ],
   "source": [
    "sns.lineplot(\n",
    "    data=(\n",
    "        pd.DataFrame(loss_history)\n",
    "        .melt(id_vars='epoch', value_vars=['training_loss', 'validation_loss'])\n",
    "    ),\n",
    "    x='epoch',\n",
    "    y='value',\n",
    "    hue='variable'\n",
    ")"
   ]
  },
  {
   "cell_type": "markdown",
   "id": "7aa9816c-ae04-4e5b-befc-f0fdc6a1a296",
   "metadata": {},
   "source": [
    "Note that the use of dropout has been switched off for the validation, hence the loss is lower than the training loss."
   ]
  },
  {
   "cell_type": "markdown",
   "id": "c60f880a-0501-4959-97e9-fb46e189fa70",
   "metadata": {},
   "source": [
    "# Sampling some predictions"
   ]
  },
  {
   "cell_type": "code",
   "execution_count": 31,
   "id": "084a1daa-3abf-40bb-a4d9-d1db1d66e584",
   "metadata": {},
   "outputs": [],
   "source": [
    "def predict(\n",
    "    static_tensor,\n",
    "    past_tensor, \n",
    "    future_tensor, \n",
    "    static_encoder, \n",
    "    sequence_encoder, \n",
    "    decoder\n",
    "):\n",
    "\n",
    "    batch_size = future_tensor.shape[0]\n",
    "    lookahead = future_tensor.shape[1]\n",
    "    \n",
    "    predictions = torch.zeros(batch_size, lookahead)\n",
    "    \n",
    "    loss = 0\n",
    "\n",
    "    with torch.no_grad():\n",
    "        \n",
    "        static_encoder_output = static_encoder(static_tensor, use_dropout=False)\n",
    "        \n",
    "        sequence_encoder_hidden = (\n",
    "            # Hidden state\n",
    "            static_encoder_output,\n",
    "            # Carry state\n",
    "            sequence_encoder.init_carry_state(batch_size=batch_size)\n",
    "        )\n",
    "\n",
    "        sequence_encoder_output, sequence_encoder_hidden = sequence_encoder(\n",
    "            # Transform to (SEQ x BATCH x FEATURES) for LSTM\n",
    "            past_tensor.transpose(0,1),\n",
    "            sequence_encoder_hidden,\n",
    "            use_dropout=False\n",
    "        )\n",
    "\n",
    "        # This is the skip-connection for the context vector\n",
    "        decoder_hidden = (\n",
    "            torch.concat([sequence_encoder_hidden[0], static_encoder_output], dim=2),\n",
    "            torch.concat([sequence_encoder_hidden[1], static_encoder_output], dim=2)\n",
    "        )\n",
    "\n",
    "        # First decoder input is the first week to be predicted.\n",
    "        decoder_input = future_tensor[:, 0, :].unsqueeze(0)\n",
    "\n",
    "        # Feed one week at a time into the decoder.\n",
    "        for week in range(lookahead):\n",
    "            decoder_output, decoder_hidden = decoder(\n",
    "                decoder_input, decoder_hidden, use_logits=False, use_dropout=False)\n",
    "            \n",
    "            # Record the prediction for the output\n",
    "            prediction = decoder_output\n",
    "            predictions[:, week] = prediction\n",
    "            \n",
    "            if week < lookahead - 1:\n",
    "                next_decoder_input = future_tensor[:, week+1, :].unsqueeze(0)\n",
    "                \n",
    "                # overwrite the targets in the next input with the prediction\n",
    "                decoder_input = torch.concat([\n",
    "                    next_decoder_input[:, :, 0:-1], \n",
    "                    prediction.unsqueeze(0).detach()\n",
    "                ], dim=2)    \n",
    "\n",
    "        return predictions"
   ]
  },
  {
   "cell_type": "markdown",
   "id": "b110fe3b-679d-4b8a-9aad-53035a36fbae",
   "metadata": {},
   "source": [
    "The plotting function lets me pull out performances by their key, or sample from a dataset."
   ]
  },
  {
   "cell_type": "code",
   "execution_count": 32,
   "id": "5bed677e-12ab-40fd-b209-144ffc42d5fd",
   "metadata": {},
   "outputs": [],
   "source": [
    "def plot_predictions(dataset, selected_keys=None, num_performances=1, plot=True, return_data=True):\n",
    "    \n",
    "    if selected_keys is not None:\n",
    "        num_performances = len(selected_keys)\n",
    "        it = iter(selected_keys)\n",
    "    else:\n",
    "        predict_dataloader = DataLoader(dataset, batch_size=1, shuffle=True)\n",
    "        it = iter(predict_dataloader)\n",
    "        if num_performances == -1:\n",
    "            num_performances = len(dataset)\n",
    "    \n",
    "    for i in range(num_performances):\n",
    "        if selected_keys is not None:            \n",
    "            key, static_tensor, past_tensor, future_tensor, target_tensor = dataset.get_by_key(next(it))\n",
    "            key = key\n",
    "            static_tensor = static_tensor.unsqueeze(0)\n",
    "            past_tensor = past_tensor.unsqueeze(0)\n",
    "            future_tensor = future_tensor.unsqueeze(0)\n",
    "            target_tensor = target_tensor.unsqueeze(0)\n",
    "        else:\n",
    "            key, static_tensor, past_tensor, future_tensor, target_tensor = next(it)\n",
    "            key = key.item()\n",
    "\n",
    "        prediction = predict(\n",
    "            static_tensor,\n",
    "            past_tensor, \n",
    "            future_tensor, \n",
    "            static_encoder, \n",
    "            sequence_encoder, \n",
    "            decoder\n",
    "        )[0]\n",
    "\n",
    "        future = target_tensor.squeeze()\n",
    "        history = past_tensor[0, :, -1]   \n",
    "\n",
    "        loss = loss_fn(prediction.to(device), future).item()\n",
    "        \n",
    "        history_df = pd.DataFrame(\n",
    "            [\n",
    "                {'Series': 'History', 'Week': w, 'pct.capacity': h.item()} \n",
    "                for w, h in enumerate(history)\n",
    "            ]\n",
    "        )\n",
    "        \n",
    "        future_df = pd.DataFrame(\n",
    "            [\n",
    "                {'Series': 'Future', 'Week': lookback + w, 'pct.capacity': f.item()}\n",
    "                for w, f in enumerate(future)\n",
    "            ]\n",
    "        )\n",
    "        \n",
    "        prediction_df = pd.DataFrame(\n",
    "            [\n",
    "                {'Series': 'Prediction', 'Week': lookback + w, 'pct.capacity': p.item()} \n",
    "                for w, p in enumerate(prediction)\n",
    "            ]\n",
    "        )\n",
    "\n",
    "        data = pd.concat([history_df, future_df, prediction_df], ignore_index=True)    \n",
    "        \n",
    "        if plot:\n",
    "            plt.figure(figsize=(8, 5))\n",
    "            \n",
    "            fig = sns.lineplot(\n",
    "                data=data,\n",
    "                x='Week',\n",
    "                y='pct.capacity',\n",
    "                hue='Series'        \n",
    "            )\n",
    "            \n",
    "            fig.set(title=f\"PERFORMANCE_ID: {key}    LOSS: {np.round(loss, 3)}\")\n",
    "            \n",
    "            fig.set_ylim(0, 1)\n",
    "        \n",
    "        if return_data:\n",
    "            yield {'performance_id': key, 'loss': loss}"
   ]
  },
  {
   "cell_type": "code",
   "execution_count": 34,
   "id": "38c6bbd0-ef30-4e70-9ae2-824544430ade",
   "metadata": {},
   "outputs": [
    {
     "data": {
      "text/plain": [
       "[]"
      ]
     },
     "execution_count": 34,
     "metadata": {},
     "output_type": "execute_result"
    },
    {
     "data": {
      "image/png": "[encoded data removed]",
      "text/plain": [
       "<Figure size 576x360 with 1 Axes>"
      ]
     },
     "metadata": {
      "needs_background": "light"
     },
     "output_type": "display_data"
    },
    {
     "data": {
      "image/png": "[encoded data removed]",
      "text/plain": [
       "<Figure size 576x360 with 1 Axes>"
      ]
     },
     "metadata": {
      "needs_background": "light"
     },
     "output_type": "display_data"
    },
    {
     "data": {
      "image/png": "[encoded data removed]",
      "text/plain": [
       "<Figure size 576x360 with 1 Axes>"
      ]
     },
     "metadata": {
      "needs_background": "light"
     },
     "output_type": "display_data"
    },
    {
     "data": {
      "image/png": "[encoded data removed]",
      "text/plain": [
       "<Figure size 576x360 with 1 Axes>"
      ]
     },
     "metadata": {
      "needs_background": "light"
     },
     "output_type": "display_data"
    },
    {
     "data": {
      "image/png": "[encoded data removed]",
      "text/plain": [
       "<Figure size 576x360 with 1 Axes>"
      ]
     },
     "metadata": {
      "needs_background": "light"
     },
     "output_type": "display_data"
    },
    {
     "data": {
      "image/png": "[encoded data removed]",
      "text/plain": [
       "<Figure size 576x360 with 1 Axes>"
      ]
     },
     "metadata": {
      "needs_background": "light"
     },
     "output_type": "display_data"
    },
    {
     "data": {
      "image/png": "[encoded data removed]",
      "text/plain": [
       "<Figure size 576x360 with 1 Axes>"
      ]
     },
     "metadata": {
      "needs_background": "light"
     },
     "output_type": "display_data"
    },
    {
     "data": {
      "image/png": "[encoded data removed]",
      "text/plain": [
       "<Figure size 576x360 with 1 Axes>"
      ]
     },
     "metadata": {
      "needs_background": "light"
     },
     "output_type": "display_data"
    },
    {
     "data": {
      "image/png": "[encoded data removed]",
      "text/plain": [
       "<Figure size 576x360 with 1 Axes>"
      ]
     },
     "metadata": {
      "needs_background": "light"
     },
     "output_type": "display_data"
    },
    {
     "data": {
      "image/png": "[encoded data removed]",
      "text/plain": [
       "<Figure size 576x360 with 1 Axes>"
      ]
     },
     "metadata": {
      "needs_background": "light"
     },
     "output_type": "display_data"
    }
   ],
   "source": [
    "# Sample some of the predictions from the validation set\n",
    "\n",
    "list(plot_predictions(\n",
    "    test_dataset, \n",
    "    selected_keys=None,\n",
    "    num_performances=10,\n",
    "    plot=True, \n",
    "    return_data=False\n",
    "))"
   ]
  },
  {
   "cell_type": "markdown",
   "id": "a2ef568c-86eb-48e7-87ad-4f128f26f988",
   "metadata": {},
   "source": [
    " Lovely :-)"
   ]
  },
  {
   "cell_type": "code",
   "execution_count": null,
   "id": "ef7e6744-e177-4fa3-9677-2b556107a975",
   "metadata": {},
   "outputs": [],
   "source": []
  }
 ],
 "metadata": {
  "kernelspec": {
   "display_name": "Python 3 (ipykernel)",
   "language": "python",
   "name": "python3"
  },
  "language_info": {
   "codemirror_mode": {
    "name": "ipython",
    "version": 3
   },
   "file_extension": ".py",
   "mimetype": "text/x-python",
   "name": "python",
   "nbconvert_exporter": "python",
   "pygments_lexer": "ipython3",
   "version": "3.9.13"
  }
 },
 "nbformat": 4,
 "nbformat_minor": 5
}
